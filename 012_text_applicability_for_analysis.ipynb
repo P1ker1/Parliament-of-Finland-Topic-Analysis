{
 "cells": [
  {
   "attachments": {},
   "cell_type": "markdown",
   "metadata": {},
   "source": [
    "# Applicability of the text\n",
    "\n",
    "This notebook will go over the text with minor changes from `010_exploring_puheenvuoroja.ipynb`. I will make some more changes to the data, i.e. lemmatize it for more smooth analysis, and get an overview on its current properties"
   ]
  },
  {
   "cell_type": "code",
   "execution_count": 1,
   "metadata": {},
   "outputs": [],
   "source": [
    "import pandas as pd\n",
    "import numpy as np\n",
    "import matplotlib.pyplot as plt\n",
    "from IPython.core.pylabtools import figsize\n",
    "figsize(30,10)"
   ]
  },
  {
   "cell_type": "code",
   "execution_count": 2,
   "metadata": {},
   "outputs": [],
   "source": [
    "from sqlalchemy import create_engine\n",
    "engine = create_engine('sqlite:///eduskunta.db', echo=False)\n"
   ]
  },
  {
   "cell_type": "code",
   "execution_count": 3,
   "metadata": {},
   "outputs": [
    {
     "data": {
      "text/html": [
       "<div>\n",
       "<style scoped>\n",
       "    .dataframe tbody tr th:only-of-type {\n",
       "        vertical-align: middle;\n",
       "    }\n",
       "\n",
       "    .dataframe tbody tr th {\n",
       "        vertical-align: top;\n",
       "    }\n",
       "\n",
       "    .dataframe thead th {\n",
       "        text-align: right;\n",
       "    }\n",
       "</style>\n",
       "<table border=\"1\" class=\"dataframe\">\n",
       "  <thead>\n",
       "    <tr style=\"text-align: right;\">\n",
       "      <th></th>\n",
       "      <th>Käsittelyvaihe</th>\n",
       "      <th>Vireilletuloasiakirja</th>\n",
       "      <th>Järjestys</th>\n",
       "      <th>ID</th>\n",
       "      <th>Asema</th>\n",
       "      <th>Etunimi</th>\n",
       "      <th>Sukunimi</th>\n",
       "      <th>Eduskuntaryhmä</th>\n",
       "      <th>Puheenvuorotyyppi</th>\n",
       "      <th>Aloitusajankohta</th>\n",
       "      <th>Lopetusajankohta</th>\n",
       "      <th>Puheenvuoro</th>\n",
       "      <th>Pöytäkirjan verkko-osoite</th>\n",
       "      <th>EduskuntaryhmäVäri</th>\n",
       "    </tr>\n",
       "    <tr>\n",
       "      <th>PvID</th>\n",
       "      <th></th>\n",
       "      <th></th>\n",
       "      <th></th>\n",
       "      <th></th>\n",
       "      <th></th>\n",
       "      <th></th>\n",
       "      <th></th>\n",
       "      <th></th>\n",
       "      <th></th>\n",
       "      <th></th>\n",
       "      <th></th>\n",
       "      <th></th>\n",
       "      <th></th>\n",
       "      <th></th>\n",
       "    </tr>\n",
       "  </thead>\n",
       "  <tbody>\n",
       "    <tr>\n",
       "      <th>0</th>\n",
       "      <td>Ainoa käsittely</td>\n",
       "      <td>ETJ 1/2019 vp</td>\n",
       "      <td>1</td>\n",
       "      <td>1092</td>\n",
       "      <td>-</td>\n",
       "      <td>Mika</td>\n",
       "      <td>Niikko</td>\n",
       "      <td>ps</td>\n",
       "      <td>varsinainen puheenvuoro</td>\n",
       "      <td>2019-05-07 14:01:59</td>\n",
       "      <td>2019-05-07 14:06:50</td>\n",
       "      <td>Arvoisa puhemies ja hyvät kollegat! Valtiopäiv...</td>\n",
       "      <td>https://www.eduskunta.fi/FI/vaski/PoytakirjaAs...</td>\n",
       "      <td>#FFD500</td>\n",
       "    </tr>\n",
       "    <tr>\n",
       "      <th>1</th>\n",
       "      <td>Ainoa käsittely</td>\n",
       "      <td>ETJ 1/2019 vp</td>\n",
       "      <td>2</td>\n",
       "      <td>1437</td>\n",
       "      <td>-</td>\n",
       "      <td>Juha</td>\n",
       "      <td>Mäenpää</td>\n",
       "      <td>ps</td>\n",
       "      <td>varsinainen puheenvuoro</td>\n",
       "      <td>2019-05-07 14:06:55</td>\n",
       "      <td>2019-05-07 14:14:11</td>\n",
       "      <td>Arvoisa puhemies! Hyvät kollegat! Meiltä kansa...</td>\n",
       "      <td>https://www.eduskunta.fi/FI/vaski/PoytakirjaAs...</td>\n",
       "      <td>#FFD500</td>\n",
       "    </tr>\n",
       "    <tr>\n",
       "      <th>2</th>\n",
       "      <td>Ainoa käsittely</td>\n",
       "      <td>ETJ 1/2019 vp</td>\n",
       "      <td>3</td>\n",
       "      <td>1275</td>\n",
       "      <td>-</td>\n",
       "      <td>Mika</td>\n",
       "      <td>Raatikainen</td>\n",
       "      <td>ps</td>\n",
       "      <td>varsinainen puheenvuoro</td>\n",
       "      <td>2019-05-07 14:14:16</td>\n",
       "      <td>2019-05-07 14:14:53</td>\n",
       "      <td>Arvoisa rouva puhemies! Tarkoitus oli puhua pe...</td>\n",
       "      <td>https://www.eduskunta.fi/FI/vaski/PoytakirjaAs...</td>\n",
       "      <td>#FFD500</td>\n",
       "    </tr>\n",
       "  </tbody>\n",
       "</table>\n",
       "</div>"
      ],
      "text/plain": [
       "       Käsittelyvaihe Vireilletuloasiakirja  Järjestys    ID Asema Etunimi  \\\n",
       "PvID                                                                         \n",
       "0     Ainoa käsittely         ETJ 1/2019 vp          1  1092     -    Mika   \n",
       "1     Ainoa käsittely         ETJ 1/2019 vp          2  1437     -    Juha   \n",
       "2     Ainoa käsittely         ETJ 1/2019 vp          3  1275     -    Mika   \n",
       "\n",
       "         Sukunimi Eduskuntaryhmä        Puheenvuorotyyppi    Aloitusajankohta  \\\n",
       "PvID                                                                            \n",
       "0          Niikko             ps  varsinainen puheenvuoro 2019-05-07 14:01:59   \n",
       "1         Mäenpää             ps  varsinainen puheenvuoro 2019-05-07 14:06:55   \n",
       "2     Raatikainen             ps  varsinainen puheenvuoro 2019-05-07 14:14:16   \n",
       "\n",
       "         Lopetusajankohta                                        Puheenvuoro  \\\n",
       "PvID                                                                           \n",
       "0     2019-05-07 14:06:50  Arvoisa puhemies ja hyvät kollegat! Valtiopäiv...   \n",
       "1     2019-05-07 14:14:11  Arvoisa puhemies! Hyvät kollegat! Meiltä kansa...   \n",
       "2     2019-05-07 14:14:53  Arvoisa rouva puhemies! Tarkoitus oli puhua pe...   \n",
       "\n",
       "                              Pöytäkirjan verkko-osoite EduskuntaryhmäVäri  \n",
       "PvID                                                                        \n",
       "0     https://www.eduskunta.fi/FI/vaski/PoytakirjaAs...            #FFD500  \n",
       "1     https://www.eduskunta.fi/FI/vaski/PoytakirjaAs...            #FFD500  \n",
       "2     https://www.eduskunta.fi/FI/vaski/PoytakirjaAs...            #FFD500  "
      ]
     },
     "execution_count": 3,
     "metadata": {},
     "output_type": "execute_result"
    }
   ],
   "source": [
    "\n",
    "pvt_bt = pd.read_sql_table(\"puheenvuorot_bad_times\", con=engine)\n",
    "pvt_bt.set_index(\"PvID\", inplace=True)  # Puheenvuoro ID – Speech ID\n",
    "pvt_bt.head(3)"
   ]
  },
  {
   "cell_type": "code",
   "execution_count": 4,
   "metadata": {},
   "outputs": [
    {
     "name": "stdout",
     "output_type": "stream",
     "text": [
      "<class 'pandas.core.frame.DataFrame'>\n",
      "Int64Index: 36273 entries, 0 to 36272\n",
      "Data columns (total 14 columns):\n",
      " #   Column                     Non-Null Count  Dtype         \n",
      "---  ------                     --------------  -----         \n",
      " 0   Käsittelyvaihe             36273 non-null  object        \n",
      " 1   Vireilletuloasiakirja      36273 non-null  object        \n",
      " 2   Järjestys                  36273 non-null  int64         \n",
      " 3   ID                         36273 non-null  int64         \n",
      " 4   Asema                      36273 non-null  object        \n",
      " 5   Etunimi                    36273 non-null  object        \n",
      " 6   Sukunimi                   36273 non-null  object        \n",
      " 7   Eduskuntaryhmä             36273 non-null  object        \n",
      " 8   Puheenvuorotyyppi          36273 non-null  object        \n",
      " 9   Aloitusajankohta           36273 non-null  datetime64[ns]\n",
      " 10  Lopetusajankohta           36273 non-null  object        \n",
      " 11  Puheenvuoro                36273 non-null  object        \n",
      " 12  Pöytäkirjan verkko-osoite  36273 non-null  object        \n",
      " 13  EduskuntaryhmäVäri         36273 non-null  object        \n",
      "dtypes: datetime64[ns](1), int64(2), object(11)\n",
      "memory usage: 4.2+ MB\n"
     ]
    }
   ],
   "source": [
    "pvt_bt.info()"
   ]
  },
  {
   "cell_type": "code",
   "execution_count": 5,
   "metadata": {},
   "outputs": [],
   "source": [
    "party_codes = list(pvt_bt[\"Eduskuntaryhmä\"].unique())\n",
    "\n",
    "# vas should be \"BF1E24\" but it's really close to sd, so change it to a darker #5f0f11\n",
    "color_codes = [\"#FFD500\", \"#E11931\", \"#5f0f11\", \"#006288\", \"#FFDD93\", \"#01954B\", \"#2B67C9\", \"#CCCCCC\", \"#61BF1A\", \"#ae2375\", \"#7475a6\", \"#000000\"]\n",
    "color_dict = dict(zip(party_codes, color_codes))\n"
   ]
  },
  {
   "attachments": {},
   "cell_type": "markdown",
   "metadata": {},
   "source": [
    "## Explorinig the texts of speeches\n",
    "\n",
    "The goal of this notebook is to uncover which topics the MPs talked about. For this, I did read about `gensim` library, which has tools for topics modelling. However, I wasn't as familiar with the library, and also heard about `sk-learn`'s `TFIDFVectorizer`, and opted to use it, as I knew more about the library in general, while sci-kit has lots of different features in itself.\n",
    "\n",
    "* The level of granularity for this implementation is the groups. Specific MPs could be investigated, too, but that's gonna be later.\n",
    "* Some degree of lemmatization / stemming is required. Later, I decide to use `Voikko` library to lemmatize the Finnish words, and will end up concentrating on nouns."
   ]
  },
  {
   "cell_type": "code",
   "execution_count": 6,
   "metadata": {},
   "outputs": [
    {
     "data": {
      "text/plain": [
       "<AxesSubplot:xlabel='Eduskuntaryhmä'>"
      ]
     },
     "execution_count": 6,
     "metadata": {},
     "output_type": "execute_result"
    },
    {
     "data": {
      "image/png": "[encoded data removed]",
      "text/plain": [
       "<Figure size 2160x504 with 1 Axes>"
      ]
     },
     "metadata": {
      "needs_background": "light"
     },
     "output_type": "display_data"
    }
   ],
   "source": [
    "pvt_ryhm = pvt_bt.groupby(\"Eduskuntaryhmä\")\n",
    "pvt_id = pvt_bt.groupby(\"ID\")\n",
    "\n",
    "figsize(30,7)\n",
    "\n",
    "pvt_ryhm_unique_MPs = pvt_ryhm[\"ID\"].nunique()\n",
    "pvt_ryhm_unique_MPs.plot.bar(rot=0, grid=True, color=[color_dict[col] for col in pvt_ryhm_unique_MPs.index])\n"
   ]
  },
  {
   "attachments": {},
   "cell_type": "markdown",
   "metadata": {},
   "source": [
    "### What do they talk about?, attempt 1"
   ]
  },
  {
   "attachments": {},
   "cell_type": "markdown",
   "metadata": {},
   "source": [
    "One approach is to make long strings which include all speeches of a party. This approach may not be the most efficient computationally but works fine with the current data."
   ]
  },
  {
   "cell_type": "code",
   "execution_count": 7,
   "metadata": {},
   "outputs": [
    {
     "data": {
      "text/plain": [
       "15156730"
      ]
     },
     "execution_count": 7,
     "metadata": {},
     "output_type": "execute_result"
    }
   ],
   "source": [
    "# https://stackoverflow.com/questions/27298178/concatenate-strings-from-several-rows-using-pandas-groupby\n",
    "puheet = pvt_ryhm[\"Puheenvuoro\"].apply(\" \".join)\n",
    "len(puheet[\"ps\"])  # characters"
   ]
  },
  {
   "attachments": {},
   "cell_type": "markdown",
   "metadata": {},
   "source": [
    "A couple of notes:\n",
    "* Lemmatization / stemming is required to get rid of different inflections of words\n",
    "  * In this case lemmatization would be more efficient, as the base forms of words are what really matters when using TF-IDF (which will be explained later)\n",
    "* Some of the most frequent words are the same for many parties"
   ]
  },
  {
   "attachments": {},
   "cell_type": "markdown",
   "metadata": {},
   "source": [
    "#### Stemming\n",
    "\n",
    "\n",
    "Stemming (*reducing inflected (or sometimes derived) words to their word stem* [Wikipedia] ) is simpler than lemmatization. It is supported by nltk library, for instance."
   ]
  },
  {
   "cell_type": "code",
   "execution_count": 8,
   "metadata": {},
   "outputs": [
    {
     "name": "stdout",
     "output_type": "stream",
     "text": [
      "hallitus\n",
      "hallituks\n"
     ]
    }
   ],
   "source": [
    "from nltk.stem.snowball import SnowballStemmer\n",
    "\n",
    "stemmer_fi = SnowballStemmer(\"finnish\")\n",
    "\n",
    "print(stemmer_fi.stem(\"hallitus\"))\n",
    "print(stemmer_fi.stem(\"hallituksen\"))"
   ]
  },
  {
   "attachments": {},
   "cell_type": "markdown",
   "metadata": {},
   "source": [
    "Ok, stemming is a thing, but how about lemmatization?\n",
    "\n",
    "https://data.solita.fi/finnish-stemming-and-lemmatization-in-python/\n",
    "\n",
    "Apparently, it is also doable for Finnish using Python. I heard about Voikko earlier but wasn't so sure where to get started with it.\n",
    "\n",
    "The installation took some extra care, but with the help of\n",
    "\n",
    "https://voikko.puimula.org/python.html\n",
    "\n",
    "I managed to get it working!"
   ]
  },
  {
   "attachments": {},
   "cell_type": "markdown",
   "metadata": {},
   "source": [
    "#### Lemmatization\n",
    "\n",
    "In essence, lemmatization is *grouping together the inflected forms of a word so they can be analysed as a single item*.  [Wikipedia]\n",
    "\n",
    "I decided to create a separate column for the lemmatized data. (perhaps the most practical and versatile way). While it takes some more space, the space is not a problem with this amount of data. (talking of megabytes)"
   ]
  },
  {
   "cell_type": "code",
   "execution_count": 9,
   "metadata": {},
   "outputs": [
    {
     "name": "stdout",
     "output_type": "stream",
     "text": [
      "syntymäpäiväjuhla\n"
     ]
    }
   ],
   "source": [
    "#Import the Voikko library\n",
    "from libvoikko import Voikko\n",
    "\n",
    "# Unfortunately there are some random languages, too...\n",
    "stemmer_se = SnowballStemmer(\"swedish\")\n",
    "stemmer_en = SnowballStemmer(\"english\")\n",
    "\n",
    "# These two lines were the critical ones ↓\n",
    "# Define a Voikko class for Finnish\n",
    "Voikko.setLibrarySearchPath(\"C:\\\\Users\\\\Ari\\\\anaconda3\\\\envs\\\\joda22\\\\Voikko\")\n",
    "v = Voikko(language=u\"fi\", path=\"C:\\\\Users\\\\Ari\\\\anaconda3\\\\envs\\\\joda22\\\\Voikko\")\n",
    "\n",
    "# An example with multiple postpositions(?) / just complex inflection\n",
    "word = \"syntymäpäiväjuhliltanneko\"\n",
    "voikko_dict = v.analyze(word)\n",
    "word_baseform = voikko_dict[0]['BASEFORM']\n",
    "\n",
    "print(word_baseform)"
   ]
  },
  {
   "attachments": {},
   "cell_type": "markdown",
   "metadata": {},
   "source": [
    "At first, the plan was to create one _long_ string per group, and for that I needed to use textwrap to create batches.\n",
    "\n",
    "The following `lemmatize_fi_sv_voikka` has a bit of extra stuff that isn't required in the final version"
   ]
  },
  {
   "cell_type": "code",
   "execution_count": 10,
   "metadata": {},
   "outputs": [
    {
     "data": {
      "text/plain": [
       "['hauska', 'suomenkielinen', 'sanoja', ',', 'joka', 'olla', 'taivuteltu', '!']"
      ]
     },
     "execution_count": 10,
     "metadata": {},
     "output_type": "execute_result"
    }
   ],
   "source": [
    "from nltk import word_tokenize\n",
    "from textwrap import wrap\n",
    "\n",
    "# Tokenizing will take time. It's ok\n",
    "\n",
    "def lemmatize_fi_sv_voikko(text):\n",
    "    #tokens = [word for word in word_tokenize(text)]\n",
    "    #print(\"Tokenizing 'text'\")\n",
    "    # Too long strings --> word_tokenize wasn't somehow sufficient\n",
    "    # This isn't an optimal solution, but textwrap can be used to divide text into chunks manageable by word_tokenize\n",
    "    # Then, the token lists can be extended into a bigger list!\n",
    "    \n",
    "    #print(\"Start wrapping\")\n",
    "    wrapped_text = wrap(text, width=500000)  # 500k went well in debug\n",
    "    tokens = []\n",
    "    #print(\"Start going over wrapping stuff\")\n",
    "    for batch in wrapped_text:\n",
    "        tokenized_batch = word_tokenize(batch)\n",
    "        tokens.extend(tokenized_batch)\n",
    "    \n",
    "    #print(\"Done with wrapping\")\n",
    "\n",
    "    # This would work if voikko could analyze also non-finnish words\n",
    "    # lemmatized = [v.analyze(item)[0][\"BASEFORM\"] for item in tokens]\n",
    "    \n",
    "    lemmatized_list = []\n",
    "    for token in tokens:\n",
    "        try:\n",
    "            lemmatized_word = v.analyze(token)[0][\"BASEFORM\"]\n",
    "        except IndexError:  # If non-finnish word is encountered\n",
    "            # Expect it to be swedish & stem it instead (sorry swedes)\n",
    "            # TODO create an instance of Voikko for swedish (requires a swedish dictionary generated by voikko)\n",
    "            # voikko-build-dicts / https://www.puimula.org/htp/testing/voikko-snapshot-v5/\n",
    "            lemmatized_word = stemmer_se.stem(token)\n",
    "        lemmatized_list.append(lemmatized_word)\n",
    "    #print(\"Lemmatization finished\")\n",
    "    return lemmatized_list\n",
    "\n",
    "words = \"hauskoja suomenkielisiä sanoja, joita on taivuteltukin!\"\n",
    "lemmatize_fi_sv_voikko(words)\n"
   ]
  },
  {
   "attachments": {},
   "cell_type": "markdown",
   "metadata": {},
   "source": [
    "The following function, while it isn't considerably faster, is far simpler & cleaner, and works with the latest implementation.\n",
    "\n",
    "Here, accessing the Voikko dictionary separately for every word may not be the most efficient way, yet, this version is pretty much as minimalistic as I could create without extra tinkering with Voikko."
   ]
  },
  {
   "cell_type": "code",
   "execution_count": 11,
   "metadata": {},
   "outputs": [],
   "source": [
    "def lemmatize_fi_sv_voikko_fast(text:str):\n",
    "    tokens = [word for word in word_tokenize(text)]\n",
    "\n",
    "    def lemmatize_token(tok):\n",
    "        try:\n",
    "            return v.analyze(tok)[0][\"BASEFORM\"]\n",
    "        \n",
    "        except IndexError:  # Gets triggered when the word isn't in Voikko's Finnish dictionary (i.e. the word is Swedish)\n",
    "            return stemmer_se.stem(tok)\n",
    "    \n",
    "    lemmatized_list = map(lambda elem: lemmatize_token(elem), tokens)\n",
    "    \n",
    "    return list(lemmatized_list)\n",
    "    "
   ]
  },
  {
   "cell_type": "code",
   "execution_count": 12,
   "metadata": {},
   "outputs": [
    {
     "data": {
      "text/plain": [
       "PvID\n",
       "0        Arvoisa puhemies ja hyvät kollegat! Valtiopäiv...\n",
       "1        Arvoisa puhemies! Hyvät kollegat! Meiltä kansa...\n",
       "2        Arvoisa rouva puhemies! Tarkoitus oli puhua pe...\n",
       "3        Rouva puhemies! Eduskunnan arvovallalle ei ole...\n",
       "4        Arvoisa puhemies! Aivan ensimmäisenä kannatan ...\n",
       "                               ...                        \n",
       "36268    Arvoisa herra puhemies! Teen perustuslain 73 §...\n",
       "36269    Arvoisa puhemies! Kannatan edustaja Karin teke...\n",
       "36270    Arvoisa puhemies! Kiireelliseksijulistamismene...\n",
       "36271    Kiitos, arvoisa puhemies! Teen tässä vaiheessa...\n",
       "36272    Arvoisa puhemies! Kannatan edustaja Peltokanka...\n",
       "Name: Puheenvuoro, Length: 36273, dtype: object"
      ]
     },
     "execution_count": 12,
     "metadata": {},
     "output_type": "execute_result"
    }
   ],
   "source": [
    "pvt_bt[\"Puheenvuoro\"]"
   ]
  },
  {
   "cell_type": "code",
   "execution_count": 13,
   "metadata": {},
   "outputs": [],
   "source": [
    "# Create a new column of lemmatized data for each speech. \n",
    "# This data is in lists of tokens, i.e. [\"baseform_1st_word\", \"baseform_2nd_word\", ...]\n",
    "pvt_bt[\"Puheenvuoro Lem\"] = pvt_bt.apply(lambda row: lemmatize_fi_sv_voikko_fast(row[\"Puheenvuoro\"]), axis=1)"
   ]
  },
  {
   "cell_type": "code",
   "execution_count": 14,
   "metadata": {},
   "outputs": [
    {
     "data": {
      "text/plain": [
       "PvID\n",
       "0        [arvoisa, puhemies, ja, hyvä, kollega, !, valt...\n",
       "1        [arvoisa, puhemies, !, hyvä, kollega, !, me, k...\n",
       "2        [arvoisa, rouva, puhemies, !, tarkoitus, olla,...\n",
       "3        [rouva, puhemies, !, eduskunta, arvovalta, ei,...\n",
       "4        [arvoisa, puhemies, !, aivan, ensimmäinen, kan...\n",
       "                               ...                        \n",
       "36268    [arvoisa, herra, puhemies, !, tehdä, perustusl...\n",
       "36269    [arvoisa, puhemies, !, kannattaa, edustaja, Ka...\n",
       "36270    [arvoisa, puhemies, !, kiireelliseksijulistami...\n",
       "36271    [kiitos, ,, arvoisa, puhemies, !, tehdä, tämä,...\n",
       "36272    [arvoisa, puhemies, !, kannattaa, edustaja, pe...\n",
       "Name: Puheenvuoro Lem, Length: 36273, dtype: object"
      ]
     },
     "execution_count": 14,
     "metadata": {},
     "output_type": "execute_result"
    }
   ],
   "source": [
    "pvt_bt[\"Puheenvuoro Lem\"]"
   ]
  },
  {
   "cell_type": "code",
   "execution_count": 15,
   "metadata": {},
   "outputs": [],
   "source": [
    "pvt_bt[\"Puheenvuoro Lem\"] = pvt_bt[\"Puheenvuoro Lem\"].apply(lambda lst: ' '.join(lst))"
   ]
  },
  {
   "attachments": {},
   "cell_type": "markdown",
   "metadata": {},
   "source": [
    "### Lemmatized versions for groups"
   ]
  },
  {
   "attachments": {},
   "cell_type": "markdown",
   "metadata": {},
   "source": [
    "#### Group by (MP) Group\n",
    "\n",
    "Create a lemmatized version for each of 12 groups present"
   ]
  },
  {
   "cell_type": "code",
   "execution_count": 16,
   "metadata": {},
   "outputs": [],
   "source": [
    "# Lemmatized version for every group\n",
    "pvt_ryhm_lem = pvt_ryhm[\"Puheenvuoro Lem\"].apply(lambda group: ''.join(group.sum()))\n"
   ]
  },
  {
   "cell_type": "code",
   "execution_count": 17,
   "metadata": {},
   "outputs": [
    {
     "data": {
      "text/plain": [
       "Eduskuntaryhmä\n",
       "-       arvoisa puhemies ! esitys ehdottaa muutettava ...\n",
       "at      arvoisa rouva puhemies ! perustuslaki pykälä k...\n",
       "kd      arvoisa puhemies ! käsiteltävä olla siis valti...\n",
       "kesk    arvoisa rouva puhemies ! ei tämä olla kyse kuu...\n",
       "kok     arvoisa rouva puhemies ! arvoisa Suomi kansa e...\n",
       "Name: Puheenvuoro Lem, dtype: object"
      ]
     },
     "execution_count": 17,
     "metadata": {},
     "output_type": "execute_result"
    }
   ],
   "source": [
    "pvt_ryhm_lem.head()"
   ]
  },
  {
   "cell_type": "code",
   "execution_count": 18,
   "metadata": {},
   "outputs": [
    {
     "name": "stdout",
     "output_type": "stream",
     "text": [
      "<class 'pandas.core.series.Series'>\n",
      "<class 'str'>\n"
     ]
    }
   ],
   "source": [
    "print(type(pvt_ryhm_lem))\n",
    "print(type(pvt_ryhm_lem[0]))"
   ]
  },
  {
   "attachments": {},
   "cell_type": "markdown",
   "metadata": {},
   "source": [
    "#### Group by individual MP\n",
    "\n",
    "Create a lemmatized version for each of 212 MPs present"
   ]
  },
  {
   "cell_type": "code",
   "execution_count": 19,
   "metadata": {},
   "outputs": [],
   "source": [
    "pvt_id_lem = pvt_id[\"Puheenvuoro Lem\"].apply(lambda group: ''.join(group.sum()))"
   ]
  },
  {
   "cell_type": "code",
   "execution_count": 20,
   "metadata": {},
   "outputs": [
    {
     "data": {
      "text/plain": [
       "ID\n",
       "116    arvoisa puhemies ! tämä olla erityinen edustaj...\n",
       "118    arvoisa puhemies ! edustaja Kanerva aikaisemmi...\n",
       "170    arvoisa puheenjohtaja ! olla aika moni asia py...\n",
       "175    arvoisa herra puhemies ! olla tosi syyttää ant...\n",
       "301    arvoisa rouva puhemies ! arvoisa Suomi kansa e...\n",
       "Name: Puheenvuoro Lem, dtype: object"
      ]
     },
     "execution_count": 20,
     "metadata": {},
     "output_type": "execute_result"
    }
   ],
   "source": [
    "pvt_id_lem.head()"
   ]
  },
  {
   "attachments": {},
   "cell_type": "markdown",
   "metadata": {},
   "source": [
    "### Option to exclude interjections"
   ]
  },
  {
   "cell_type": "code",
   "execution_count": 21,
   "metadata": {},
   "outputs": [
    {
     "data": {
      "text/plain": [
       "'puoli erilainen edunvalvonta- ja lobbaustaho [ Ben zyskowicz : Antti rinne lobbarihallitus syntymä ! ] ja myös vaalirahoittaja , kuten eräs ammattiliitto , esimerkki SAK , jhl , Akava . mediatieto mukaan aina vaikuttajaviestintätoimisto miltton network ja rud peders olla vahva läsnä säätytalo pöytä '"
      ]
     },
     "execution_count": 21,
     "metadata": {},
     "output_type": "execute_result"
    }
   ],
   "source": [
    "pvt_ryhm_lem.iloc[2][1200:1500]"
   ]
  },
  {
   "attachments": {},
   "cell_type": "markdown",
   "metadata": {},
   "source": [
    "As displayed above, there are still sections with all sorts of interjections. For the sake of future option, let's create a new column which has the parts in `[square brackets]` removed from the strings.\n",
    "\n",
    "This can be done using regular expressions:"
   ]
  },
  {
   "attachments": {},
   "cell_type": "markdown",
   "metadata": {},
   "source": [
    "#### Deleting interjections & Demonstration\n",
    "\n",
    "The following function does the deletion:"
   ]
  },
  {
   "cell_type": "code",
   "execution_count": 22,
   "metadata": {},
   "outputs": [
    {
     "name": "stdout",
     "output_type": "stream",
     "text": [
      "puoli erilainen edunvalvonta- ja lobbaustaho [ Ben zyskowicz : Antti rinne lobbarihallitus syntymä ! ] ja myös vaalirahoittaja , kuten eräs ammattiliitto , esimerkki SAK , jhl , Akava . mediatieto mukaan aina vaikuttajaviestintätoimisto miltton network ja rud peders olla vahva läsnä säätytalo pöytä  \n",
      "Characters:  300\n",
      "\n",
      "\n",
      "puoli erilainen edunvalvonta- ja lobbaustaho  ja myös vaalirahoittaja , kuten eräs ammattiliitto , esimerkki SAK , jhl , Akava . mediatieto mukaan aina vaikuttajaviestintätoimisto miltton network ja rud peders olla vahva läsnä säätytalo pöytä  \n",
      "Characters:  243\n",
      "\n",
      "\n",
      "puoli erilainen edunvalvonta- ja lobbaustaho ja myös vaalirahoittaja , kuten eräs ammattiliitto , esimerkki SAK , jhl , Akava . mediatieto mukaan aina vaikuttajaviestintätoimisto miltton network ja rud peders olla vahva läsnä säätytalo pöytä  \n",
      "Characters:  242\n"
     ]
    },
    {
     "data": {
      "text/plain": [
       "'puoli erilainen edunvalvonta- ja lobbaustaho ja myös vaalirahoittaja , kuten eräs ammattiliitto , esimerkki SAK , jhl , Akava . mediatieto mukaan aina vaikuttajaviestintätoimisto miltton network ja rud peders olla vahva läsnä säätytalo pöytä '"
      ]
     },
     "execution_count": 22,
     "metadata": {},
     "output_type": "execute_result"
    }
   ],
   "source": [
    "import re\n",
    "\n",
    "example_str_in = pvt_ryhm_lem.iloc[2][1200:1500]\n",
    "\n",
    "print(example_str_in, \"\\nCharacters: \", len(example_str_in))\n",
    "print(\"\\n\")\n",
    "\n",
    "def get_rid_of_interjections(input_string:str, example_prints=False):\n",
    "    \n",
    "    # First, process the \n",
    "    str_out = re.sub(r'\\[.*?\\]', '', input_string)\n",
    "    \n",
    "    if example_prints:\n",
    "        print(str_out, \"\\nCharacters: \", len(str_out))\n",
    "        print(\"\\n\")\n",
    "    \n",
    "    str_out = re.sub(r'\\s+', ' ', str_out)\n",
    "    if example_prints:\n",
    "        print(str_out, \"\\nCharacters: \", len(str_out))\n",
    "        \n",
    "    return str_out\n",
    "\n",
    "\n",
    "# Demonstration\n",
    "get_rid_of_interjections(example_str_in, example_prints=True)\n",
    "\n",
    "# note the extra space between \"lobbaustaho  ja myös\" disappearing after the second regex"
   ]
  },
  {
   "attachments": {},
   "cell_type": "markdown",
   "metadata": {},
   "source": [
    "#### Original with additional col for lemmatizations"
   ]
  },
  {
   "cell_type": "code",
   "execution_count": 23,
   "metadata": {},
   "outputs": [],
   "source": [
    "pvt_bt['Puheenvuoro Lem ilman keskeytyksiä'] = pvt_bt[\"Puheenvuoro Lem\"].apply(lambda row_value: get_rid_of_interjections(row_value))"
   ]
  },
  {
   "attachments": {},
   "cell_type": "markdown",
   "metadata": {},
   "source": [
    "#### Group by (MP) Group\n"
   ]
  },
  {
   "cell_type": "code",
   "execution_count": 24,
   "metadata": {},
   "outputs": [],
   "source": [
    "pvt_ryhm_lem_no_interjections = pvt_ryhm_lem.apply(lambda row_value: get_rid_of_interjections(row_value))\n"
   ]
  },
  {
   "cell_type": "code",
   "execution_count": 25,
   "metadata": {},
   "outputs": [
    {
     "data": {
      "text/plain": [
       "Eduskuntaryhmä\n",
       "-       arvoisa puhemies ! esitys ehdottaa muutettava ...\n",
       "at      arvoisa rouva puhemies ! perustuslaki pykälä k...\n",
       "kd      arvoisa puhemies ! käsiteltävä olla siis valti...\n",
       "kesk    arvoisa rouva puhemies ! ei tämä olla kyse kuu...\n",
       "kok     arvoisa rouva puhemies ! arvoisa Suomi kansa e...\n",
       "liik    arvoisa puhemies ! epäillä Suomi jääkiekkomaaj...\n",
       "ps      arvoisa puhemies ja hyvä kollega ! valtiopäivä...\n",
       "r       värder fru talman , arvoisa rouva puhemies ! t...\n",
       "sd      arvoisa puhemies ! haluta ensi todeta , että t...\n",
       "vas     arvoisa rouva puhemies ! jokainen istuntokausi...\n",
       "vihr    arvoisa puhemies ! tämä nyt keskustella rinne ...\n",
       "vkk     arvoisa puhemies ! me kaikki ylin laki olla pe...\n",
       "Name: Puheenvuoro Lem ilman keskeytyksiä, dtype: object"
      ]
     },
     "execution_count": 25,
     "metadata": {},
     "output_type": "execute_result"
    }
   ],
   "source": [
    "pvt_ryhm_lem_no_interjections.name = 'Puheenvuoro Lem ilman keskeytyksiä'\n",
    "pvt_ryhm_lem_no_interjections"
   ]
  },
  {
   "cell_type": "code",
   "execution_count": 26,
   "metadata": {},
   "outputs": [
    {
     "data": {
      "text/html": [
       "<div>\n",
       "<style scoped>\n",
       "    .dataframe tbody tr th:only-of-type {\n",
       "        vertical-align: middle;\n",
       "    }\n",
       "\n",
       "    .dataframe tbody tr th {\n",
       "        vertical-align: top;\n",
       "    }\n",
       "\n",
       "    .dataframe thead th {\n",
       "        text-align: right;\n",
       "    }\n",
       "</style>\n",
       "<table border=\"1\" class=\"dataframe\">\n",
       "  <thead>\n",
       "    <tr style=\"text-align: right;\">\n",
       "      <th></th>\n",
       "      <th>Puheenvuoro Lem</th>\n",
       "      <th>Puheenvuoro Lem ilman keskeytyksiä</th>\n",
       "    </tr>\n",
       "    <tr>\n",
       "      <th>Eduskuntaryhmä</th>\n",
       "      <th></th>\n",
       "      <th></th>\n",
       "    </tr>\n",
       "  </thead>\n",
       "  <tbody>\n",
       "    <tr>\n",
       "      <th>-</th>\n",
       "      <td>arvoisa puhemies ! esitys ehdottaa muutettava ...</td>\n",
       "      <td>arvoisa puhemies ! esitys ehdottaa muutettava ...</td>\n",
       "    </tr>\n",
       "    <tr>\n",
       "      <th>at</th>\n",
       "      <td>arvoisa rouva puhemies ! perustuslaki pykälä k...</td>\n",
       "      <td>arvoisa rouva puhemies ! perustuslaki pykälä k...</td>\n",
       "    </tr>\n",
       "    <tr>\n",
       "      <th>kd</th>\n",
       "      <td>arvoisa puhemies ! käsiteltävä olla siis valti...</td>\n",
       "      <td>arvoisa puhemies ! käsiteltävä olla siis valti...</td>\n",
       "    </tr>\n",
       "    <tr>\n",
       "      <th>kesk</th>\n",
       "      <td>arvoisa rouva puhemies ! ei tämä olla kyse kuu...</td>\n",
       "      <td>arvoisa rouva puhemies ! ei tämä olla kyse kuu...</td>\n",
       "    </tr>\n",
       "    <tr>\n",
       "      <th>kok</th>\n",
       "      <td>arvoisa rouva puhemies ! arvoisa Suomi kansa e...</td>\n",
       "      <td>arvoisa rouva puhemies ! arvoisa Suomi kansa e...</td>\n",
       "    </tr>\n",
       "    <tr>\n",
       "      <th>liik</th>\n",
       "      <td>arvoisa puhemies ! epäillä Suomi jääkiekkomaaj...</td>\n",
       "      <td>arvoisa puhemies ! epäillä Suomi jääkiekkomaaj...</td>\n",
       "    </tr>\n",
       "    <tr>\n",
       "      <th>ps</th>\n",
       "      <td>arvoisa puhemies ja hyvä kollega ! valtiopäivä...</td>\n",
       "      <td>arvoisa puhemies ja hyvä kollega ! valtiopäivä...</td>\n",
       "    </tr>\n",
       "    <tr>\n",
       "      <th>r</th>\n",
       "      <td>värder fru talman , arvoisa rouva puhemies ! t...</td>\n",
       "      <td>värder fru talman , arvoisa rouva puhemies ! t...</td>\n",
       "    </tr>\n",
       "    <tr>\n",
       "      <th>sd</th>\n",
       "      <td>arvoisa puhemies ! haluta ensi todeta , että t...</td>\n",
       "      <td>arvoisa puhemies ! haluta ensi todeta , että t...</td>\n",
       "    </tr>\n",
       "    <tr>\n",
       "      <th>vas</th>\n",
       "      <td>arvoisa rouva puhemies ! jokainen istuntokausi...</td>\n",
       "      <td>arvoisa rouva puhemies ! jokainen istuntokausi...</td>\n",
       "    </tr>\n",
       "    <tr>\n",
       "      <th>vihr</th>\n",
       "      <td>arvoisa puhemies ! tämä nyt keskustella rinne ...</td>\n",
       "      <td>arvoisa puhemies ! tämä nyt keskustella rinne ...</td>\n",
       "    </tr>\n",
       "    <tr>\n",
       "      <th>vkk</th>\n",
       "      <td>arvoisa puhemies ! me kaikki ylin laki olla pe...</td>\n",
       "      <td>arvoisa puhemies ! me kaikki ylin laki olla pe...</td>\n",
       "    </tr>\n",
       "  </tbody>\n",
       "</table>\n",
       "</div>"
      ],
      "text/plain": [
       "                                                  Puheenvuoro Lem  \\\n",
       "Eduskuntaryhmä                                                      \n",
       "-               arvoisa puhemies ! esitys ehdottaa muutettava ...   \n",
       "at              arvoisa rouva puhemies ! perustuslaki pykälä k...   \n",
       "kd              arvoisa puhemies ! käsiteltävä olla siis valti...   \n",
       "kesk            arvoisa rouva puhemies ! ei tämä olla kyse kuu...   \n",
       "kok             arvoisa rouva puhemies ! arvoisa Suomi kansa e...   \n",
       "liik            arvoisa puhemies ! epäillä Suomi jääkiekkomaaj...   \n",
       "ps              arvoisa puhemies ja hyvä kollega ! valtiopäivä...   \n",
       "r               värder fru talman , arvoisa rouva puhemies ! t...   \n",
       "sd              arvoisa puhemies ! haluta ensi todeta , että t...   \n",
       "vas             arvoisa rouva puhemies ! jokainen istuntokausi...   \n",
       "vihr            arvoisa puhemies ! tämä nyt keskustella rinne ...   \n",
       "vkk             arvoisa puhemies ! me kaikki ylin laki olla pe...   \n",
       "\n",
       "                               Puheenvuoro Lem ilman keskeytyksiä  \n",
       "Eduskuntaryhmä                                                     \n",
       "-               arvoisa puhemies ! esitys ehdottaa muutettava ...  \n",
       "at              arvoisa rouva puhemies ! perustuslaki pykälä k...  \n",
       "kd              arvoisa puhemies ! käsiteltävä olla siis valti...  \n",
       "kesk            arvoisa rouva puhemies ! ei tämä olla kyse kuu...  \n",
       "kok             arvoisa rouva puhemies ! arvoisa Suomi kansa e...  \n",
       "liik            arvoisa puhemies ! epäillä Suomi jääkiekkomaaj...  \n",
       "ps              arvoisa puhemies ja hyvä kollega ! valtiopäivä...  \n",
       "r               värder fru talman , arvoisa rouva puhemies ! t...  \n",
       "sd              arvoisa puhemies ! haluta ensi todeta , että t...  \n",
       "vas             arvoisa rouva puhemies ! jokainen istuntokausi...  \n",
       "vihr            arvoisa puhemies ! tämä nyt keskustella rinne ...  \n",
       "vkk             arvoisa puhemies ! me kaikki ylin laki olla pe...  "
      ]
     },
     "execution_count": 26,
     "metadata": {},
     "output_type": "execute_result"
    }
   ],
   "source": [
    "pvt_ryhm_lem_both = pd.DataFrame([pvt_ryhm_lem, pvt_ryhm_lem_no_interjections]).T\n",
    "pvt_ryhm_lem_both"
   ]
  },
  {
   "attachments": {},
   "cell_type": "markdown",
   "metadata": {},
   "source": [
    "#### Group by individual MP"
   ]
  },
  {
   "cell_type": "code",
   "execution_count": 27,
   "metadata": {},
   "outputs": [],
   "source": [
    "pvt_id_lem_no_interjections = pvt_id_lem.apply(lambda row_value: get_rid_of_interjections(row_value))\n",
    "\n",
    "# Rename\n",
    "pvt_id_lem_no_interjections.name = 'Puheenvuoro Lem ilman keskeytyksiä'\n"
   ]
  },
  {
   "cell_type": "code",
   "execution_count": 28,
   "metadata": {},
   "outputs": [
    {
     "data": {
      "text/html": [
       "<div>\n",
       "<style scoped>\n",
       "    .dataframe tbody tr th:only-of-type {\n",
       "        vertical-align: middle;\n",
       "    }\n",
       "\n",
       "    .dataframe tbody tr th {\n",
       "        vertical-align: top;\n",
       "    }\n",
       "\n",
       "    .dataframe thead th {\n",
       "        text-align: right;\n",
       "    }\n",
       "</style>\n",
       "<table border=\"1\" class=\"dataframe\">\n",
       "  <thead>\n",
       "    <tr style=\"text-align: right;\">\n",
       "      <th></th>\n",
       "      <th>Puheenvuoro Lem</th>\n",
       "      <th>Puheenvuoro Lem ilman keskeytyksiä</th>\n",
       "    </tr>\n",
       "    <tr>\n",
       "      <th>ID</th>\n",
       "      <th></th>\n",
       "      <th></th>\n",
       "    </tr>\n",
       "  </thead>\n",
       "  <tbody>\n",
       "    <tr>\n",
       "      <th>116</th>\n",
       "      <td>arvoisa puhemies ! tämä olla erityinen edustaj...</td>\n",
       "      <td>arvoisa puhemies ! tämä olla erityinen edustaj...</td>\n",
       "    </tr>\n",
       "    <tr>\n",
       "      <th>118</th>\n",
       "      <td>arvoisa puhemies ! edustaja Kanerva aikaisemmi...</td>\n",
       "      <td>arvoisa puhemies ! edustaja Kanerva aikaisemmi...</td>\n",
       "    </tr>\n",
       "    <tr>\n",
       "      <th>170</th>\n",
       "      <td>arvoisa puheenjohtaja ! olla aika moni asia py...</td>\n",
       "      <td>arvoisa puheenjohtaja ! olla aika moni asia py...</td>\n",
       "    </tr>\n",
       "    <tr>\n",
       "      <th>175</th>\n",
       "      <td>arvoisa herra puhemies ! olla tosi syyttää ant...</td>\n",
       "      <td>arvoisa herra puhemies ! olla tosi syyttää ant...</td>\n",
       "    </tr>\n",
       "    <tr>\n",
       "      <th>301</th>\n",
       "      <td>arvoisa rouva puhemies ! arvoisa Suomi kansa e...</td>\n",
       "      <td>arvoisa rouva puhemies ! arvoisa Suomi kansa e...</td>\n",
       "    </tr>\n",
       "    <tr>\n",
       "      <th>...</th>\n",
       "      <td>...</td>\n",
       "      <td>...</td>\n",
       "    </tr>\n",
       "    <tr>\n",
       "      <th>1469</th>\n",
       "      <td>[ arvoisa puhemies ! käsitellä nyt ensi vuosi ...</td>\n",
       "      <td>luotonantaja näkökulma velkaantunut ihminen n...</td>\n",
       "    </tr>\n",
       "    <tr>\n",
       "      <th>1479</th>\n",
       "      <td>arvoisa puhemies ! oikeudenmukainen yhteiskunt...</td>\n",
       "      <td>arvoisa puhemies ! oikeudenmukainen yhteiskunt...</td>\n",
       "    </tr>\n",
       "    <tr>\n",
       "      <th>1480</th>\n",
       "      <td>arvoisa herra puhemies ! ministeri ! olla haus...</td>\n",
       "      <td>arvoisa herra puhemies ! ministeri ! olla haus...</td>\n",
       "    </tr>\n",
       "    <tr>\n",
       "      <th>1481</th>\n",
       "      <td>kiitos , arvoisa puhemies ! täällä puhua nyt n...</td>\n",
       "      <td>kiitos , arvoisa puhemies ! täällä puhua nyt n...</td>\n",
       "    </tr>\n",
       "    <tr>\n",
       "      <th>1483</th>\n",
       "      <td>arvoisa puhemies ! toimia rahoitusmarkkina oll...</td>\n",
       "      <td>arvoisa puhemies ! toimia rahoitusmarkkina oll...</td>\n",
       "    </tr>\n",
       "  </tbody>\n",
       "</table>\n",
       "<p>212 rows × 2 columns</p>\n",
       "</div>"
      ],
      "text/plain": [
       "                                        Puheenvuoro Lem  \\\n",
       "ID                                                        \n",
       "116   arvoisa puhemies ! tämä olla erityinen edustaj...   \n",
       "118   arvoisa puhemies ! edustaja Kanerva aikaisemmi...   \n",
       "170   arvoisa puheenjohtaja ! olla aika moni asia py...   \n",
       "175   arvoisa herra puhemies ! olla tosi syyttää ant...   \n",
       "301   arvoisa rouva puhemies ! arvoisa Suomi kansa e...   \n",
       "...                                                 ...   \n",
       "1469  [ arvoisa puhemies ! käsitellä nyt ensi vuosi ...   \n",
       "1479  arvoisa puhemies ! oikeudenmukainen yhteiskunt...   \n",
       "1480  arvoisa herra puhemies ! ministeri ! olla haus...   \n",
       "1481  kiitos , arvoisa puhemies ! täällä puhua nyt n...   \n",
       "1483  arvoisa puhemies ! toimia rahoitusmarkkina oll...   \n",
       "\n",
       "                     Puheenvuoro Lem ilman keskeytyksiä  \n",
       "ID                                                       \n",
       "116   arvoisa puhemies ! tämä olla erityinen edustaj...  \n",
       "118   arvoisa puhemies ! edustaja Kanerva aikaisemmi...  \n",
       "170   arvoisa puheenjohtaja ! olla aika moni asia py...  \n",
       "175   arvoisa herra puhemies ! olla tosi syyttää ant...  \n",
       "301   arvoisa rouva puhemies ! arvoisa Suomi kansa e...  \n",
       "...                                                 ...  \n",
       "1469   luotonantaja näkökulma velkaantunut ihminen n...  \n",
       "1479  arvoisa puhemies ! oikeudenmukainen yhteiskunt...  \n",
       "1480  arvoisa herra puhemies ! ministeri ! olla haus...  \n",
       "1481  kiitos , arvoisa puhemies ! täällä puhua nyt n...  \n",
       "1483  arvoisa puhemies ! toimia rahoitusmarkkina oll...  \n",
       "\n",
       "[212 rows x 2 columns]"
      ]
     },
     "execution_count": 28,
     "metadata": {},
     "output_type": "execute_result"
    }
   ],
   "source": [
    "pvt_id_lem_both = pd.DataFrame([pvt_id_lem, pvt_id_lem_no_interjections]).T\n",
    "pvt_id_lem_both"
   ]
  },
  {
   "attachments": {},
   "cell_type": "markdown",
   "metadata": {},
   "source": [
    "E.g. here the function can be seen in action"
   ]
  },
  {
   "attachments": {},
   "cell_type": "markdown",
   "metadata": {},
   "source": [
    "### Pushing Lemmatizations to the SQL"
   ]
  },
  {
   "attachments": {},
   "cell_type": "markdown",
   "metadata": {},
   "source": [
    "#### Original with additional col for lemmatizations"
   ]
  },
  {
   "cell_type": "code",
   "execution_count": 29,
   "metadata": {},
   "outputs": [
    {
     "data": {
      "text/plain": [
       "36273"
      ]
     },
     "execution_count": 29,
     "metadata": {},
     "output_type": "execute_result"
    }
   ],
   "source": [
    "pvt_bt.to_sql(\"puheenvuorot_bad_times_pvt_lem\", con=engine,\n",
    "           if_exists=\"replace\")  # NOTE this replaces the existing one every time the file is run!"
   ]
  },
  {
   "attachments": {},
   "cell_type": "markdown",
   "metadata": {},
   "source": [
    "#### Grouped by MP Groups"
   ]
  },
  {
   "cell_type": "code",
   "execution_count": 30,
   "metadata": {},
   "outputs": [
    {
     "data": {
      "text/plain": [
       "12"
      ]
     },
     "execution_count": 30,
     "metadata": {},
     "output_type": "execute_result"
    }
   ],
   "source": [
    "pvt_ryhm_lem_both.to_sql(\"puheenvuorot_grouped_by_groups_lem\", con=engine,\n",
    "                  if_exists=\"replace\")  # NOTE this replaces the existing one every time the cell is run!"
   ]
  },
  {
   "attachments": {},
   "cell_type": "markdown",
   "metadata": {},
   "source": [
    "#### Grouped by MPs"
   ]
  },
  {
   "cell_type": "code",
   "execution_count": 31,
   "metadata": {},
   "outputs": [
    {
     "data": {
      "text/plain": [
       "212"
      ]
     },
     "execution_count": 31,
     "metadata": {},
     "output_type": "execute_result"
    }
   ],
   "source": [
    "pvt_id_lem_both.to_sql(\"puheenvuorot_grouped_by_ids_lem\", con=engine,\n",
    "                  if_exists=\"replace\")  # NOTE this replaces the existing one every time the cell is run!"
   ]
  }
 ],
 "metadata": {
  "kernelspec": {
   "display_name": "joda22",
   "language": "python",
   "name": "python3"
  },
  "language_info": {
   "codemirror_mode": {
    "name": "ipython",
    "version": 3
   },
   "file_extension": ".py",
   "mimetype": "text/x-python",
   "name": "python",
   "nbconvert_exporter": "python",
   "pygments_lexer": "ipython3",
   "version": "3.9.12"
  },
  "orig_nbformat": 4,
  "vscode": {
   "interpreter": {
    "hash": "3bcb3def9690712be27acf439970c5664551860baf760898c35e329108a450cd"
   }
  }
 },
 "nbformat": 4,
 "nbformat_minor": 2
}
