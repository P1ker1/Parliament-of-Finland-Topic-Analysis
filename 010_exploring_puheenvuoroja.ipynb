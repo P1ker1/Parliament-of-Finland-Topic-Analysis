{
 "cells": [
  {
   "attachments": {},
   "cell_type": "markdown",
   "metadata": {},
   "source": [
    "# The Speeches in the Parliament of Finland\n",
    "\n",
    "This project is an exploratory data analysis of a sort about the speeches held in our parliament.\n",
    "\n",
    "It didn't initially have a elaborate end goal and as of December 2022 the project can't be considered \"finished.\"\n",
    "\n",
    "It currently covers \n",
    "* Comparing the most frequent nouns in the speeches\n",
    "  * using NLP / lemmatization of Finnish words \n",
    "  * analysis uses TF-IDF vectorizer from sk-learn\n",
    "\n",
    "Other topics of interest which aren't currently covered in greater detail:\n",
    "* Similarity of the speeches within a party \n",
    "  * i.e. were there outliers within the party who talked about very different topics etc.\n",
    "* Topics revolving around the lengths of speeches\n",
    "  * Which parties had the longest speeches?\n",
    "  * How did the frequencies of different parts of speech differ based on different MEPs / parties?\n",
    "    * i.e. nouns, verbs, adjectives, etc.\n",
    "  * Anything interesting to be determined based on \"intensity of speech\"\n",
    "    * i.e. which MEPs spoke fast (many words per minute)\n",
    "\n",
    "This analysis doesn't directly imply causations of the impact of people or parties. As a friend of mine mentioned, the speeches held in the committees have also a great impact, and as of now, they are not considered here.\n",
    "\n",
    "One of the greatest motivations behind this project was to get an *overview* on the topics covered, yet I don't actively follow the politics, and in such a way am less knowledgeable, but also less biased.\n",
    "\n",
    "The column names haven't been changed from the original Finnish names, and most of the variables are also in Finnish to follow the logic. While the notebook itself is in English, Finnish is needed to understand the insights of the data properly."
   ]
  },
  {
   "attachments": {},
   "cell_type": "markdown",
   "metadata": {},
   "source": [
    "### Link to the source data:\n",
    "DL Link: https://downloads.ctfassets.net/ihup72fnxs9n/6dscMMFAhKQRBx1DuLgSl2/e17c508d9551688c42619263e30a0c98/T__ysistuntojen_puheenvuorot_23082022.xlsx\n",
    "\n",
    "Initially from here: https://avoindata.eduskunta.fi/#/fi/dataset-search"
   ]
  },
  {
   "attachments": {},
   "cell_type": "markdown",
   "metadata": {},
   "source": [
    "## Data Cleaning & Exploring columns\n",
    "### Imports & General glance\n",
    "Let's first import the required libraries & have a look at the data we'll be working on."
   ]
  },
  {
   "cell_type": "code",
   "execution_count": 1,
   "metadata": {},
   "outputs": [],
   "source": [
    "import pandas as pd\n",
    "import numpy as np\n",
    "import matplotlib.pyplot as plt\n",
    "import seaborn as sns\n",
    "from wordcloud import WordCloud, STOPWORDS  # As of DEC 2022, I didn't end up using this library in the latest version yet.\n",
    "from IPython.core.pylabtools import figsize\n",
    "figsize(30,10)"
   ]
  },
  {
   "attachments": {},
   "cell_type": "markdown",
   "metadata": {},
   "source": [
    "#### Metadata (in Finnish) provided by the document"
   ]
  },
  {
   "cell_type": "code",
   "execution_count": 2,
   "metadata": {},
   "outputs": [
    {
     "data": {
      "text/html": [
       "<div>\n",
       "<style scoped>\n",
       "    .dataframe tbody tr th:only-of-type {\n",
       "        vertical-align: middle;\n",
       "    }\n",
       "\n",
       "    .dataframe tbody tr th {\n",
       "        vertical-align: top;\n",
       "    }\n",
       "\n",
       "    .dataframe thead th {\n",
       "        text-align: right;\n",
       "    }\n",
       "</style>\n",
       "<table border=\"1\" class=\"dataframe\">\n",
       "  <thead>\n",
       "    <tr style=\"text-align: right;\">\n",
       "      <th></th>\n",
       "      <th>Täysistuntojen puheenvuorot 2019–</th>\n",
       "    </tr>\n",
       "  </thead>\n",
       "  <tbody>\n",
       "    <tr>\n",
       "      <th>0</th>\n",
       "      <td>Tämä koonti sisältää kansanedustajien puheenvuorot täysistunnoissa valtiopäiviltä 2019 alkaen. Puheenvuorot on lajiteltu ajankohdan mukaan vanhimmasta uusimpaan. Tiedot on kerätty eduskunnan avoimen datan rajapinnan kautta, ja taulukon tietosisällöt on kuvattu tarkemmin alempana tällä välilehdellä. Puhemiehen kommenttipuheenvuorot eivät ole mukana.</td>\n",
       "    </tr>\n",
       "    <tr>\n",
       "      <th>1</th>\n",
       "      <td>Puheenvuorot-välilehdellä tieto on jaettu seuraaviin sarakkeisiin:</td>\n",
       "    </tr>\n",
       "    <tr>\n",
       "      <th>2</th>\n",
       "      <td>Käsittelyvaihe = Asian, johon puheenvuoro liittyy, käsittelyvaihe.</td>\n",
       "    </tr>\n",
       "    <tr>\n",
       "      <th>3</th>\n",
       "      <td>Vireilletuloasia = Asia, johon puheenvuoro liittyy.</td>\n",
       "    </tr>\n",
       "    <tr>\n",
       "      <th>4</th>\n",
       "      <td>Järjestys = Puheenvuoron järjestysnumero kyseisessä asiakohdassa.</td>\n",
       "    </tr>\n",
       "    <tr>\n",
       "      <th>5</th>\n",
       "      <td>ID = Puhujan identifioiva ID-tunnus.</td>\n",
       "    </tr>\n",
       "    <tr>\n",
       "      <th>6</th>\n",
       "      <td>Asema = Jos puhuja on valtioneuvoston jäsen eli ministeri.</td>\n",
       "    </tr>\n",
       "    <tr>\n",
       "      <th>7</th>\n",
       "      <td>Etunimi, Sukunimi, Eduskuntaryhmä = Puhujan nimi sekä eduskuntaryhmä. Ministereille ei ole merkitty puoluetta.</td>\n",
       "    </tr>\n",
       "    <tr>\n",
       "      <th>8</th>\n",
       "      <td>Puheenvuorotyyppi = Esittelypuheenvuoro, varsinainen puheenvuoro, vastauspuheenvuoro, ryhmäpuheenvuoro tai nopeatahtinen puheenvuoro.</td>\n",
       "    </tr>\n",
       "    <tr>\n",
       "      <th>9</th>\n",
       "      <td>Aloitus- ja lopetusajankohta = Puheenvuoron alkamis- ja päättymisajankohta muodossa päivämäärä ja kellonaika.</td>\n",
       "    </tr>\n",
       "    <tr>\n",
       "      <th>10</th>\n",
       "      <td>Puheenvuoro = Puheenvuoro kokonaisuudessaan sisältäen välihuudot</td>\n",
       "    </tr>\n",
       "    <tr>\n",
       "      <th>11</th>\n",
       "      <td>Pöytäkirjan verkko-osoite = linkki kyseisen asiakohdan pöytäkirjan verkkoversioon eduskunnan sivuilla.</td>\n",
       "    </tr>\n",
       "    <tr>\n",
       "      <th>12</th>\n",
       "      <td>Tiedot päivitetty viimeksi 4.8.2022.</td>\n",
       "    </tr>\n",
       "    <tr>\n",
       "      <th>13</th>\n",
       "      <td>Taulukosta saattaa puuttua puheenvuoroja. Puheenvuorot löytyvät kattavasti eduskunnan verkkosivuilta valtiopäiväasiat ja -asiakirjat -hakupalvelusta.</td>\n",
       "    </tr>\n",
       "  </tbody>\n",
       "</table>\n",
       "</div>"
      ],
      "text/plain": [
       "                                                                                                                                                                                                                                                                                                                                 Täysistuntojen puheenvuorot 2019–\n",
       "0   Tämä koonti sisältää kansanedustajien puheenvuorot täysistunnoissa valtiopäiviltä 2019 alkaen. Puheenvuorot on lajiteltu ajankohdan mukaan vanhimmasta uusimpaan. Tiedot on kerätty eduskunnan avoimen datan rajapinnan kautta, ja taulukon tietosisällöt on kuvattu tarkemmin alempana tällä välilehdellä. Puhemiehen kommenttipuheenvuorot eivät ole mukana.\n",
       "1                                                                                                                                                                                                                                                                                               Puheenvuorot-välilehdellä tieto on jaettu seuraaviin sarakkeisiin:\n",
       "2                                                                                                                                                                                                                                                                                               Käsittelyvaihe = Asian, johon puheenvuoro liittyy, käsittelyvaihe.\n",
       "3                                                                                                                                                                                                                                                                                                              Vireilletuloasia = Asia, johon puheenvuoro liittyy.\n",
       "4                                                                                                                                                                                                                                                                                                Järjestys = Puheenvuoron järjestysnumero kyseisessä asiakohdassa.\n",
       "5                                                                                                                                                                                                                                                                                                                             ID = Puhujan identifioiva ID-tunnus.\n",
       "6                                                                                                                                                                                                                                                                                                       Asema = Jos puhuja on valtioneuvoston jäsen eli ministeri.\n",
       "7                                                                                                                                                                                                                                                   Etunimi, Sukunimi, Eduskuntaryhmä = Puhujan nimi sekä eduskuntaryhmä. Ministereille ei ole merkitty puoluetta.\n",
       "8                                                                                                                                                                                                                            Puheenvuorotyyppi = Esittelypuheenvuoro, varsinainen puheenvuoro, vastauspuheenvuoro, ryhmäpuheenvuoro tai nopeatahtinen puheenvuoro.\n",
       "9                                                                                                                                                                                                                                                    Aloitus- ja lopetusajankohta = Puheenvuoron alkamis- ja päättymisajankohta muodossa päivämäärä ja kellonaika.\n",
       "10                                                                                                                                                                                                                                                                                                Puheenvuoro = Puheenvuoro kokonaisuudessaan sisältäen välihuudot\n",
       "11                                                                                                                                                                                                                                                          Pöytäkirjan verkko-osoite = linkki kyseisen asiakohdan pöytäkirjan verkkoversioon eduskunnan sivuilla.\n",
       "12                                                                                                                                                                                                                                                                                                                            Tiedot päivitetty viimeksi 4.8.2022.\n",
       "13                                                                                                                                                                                                           Taulukosta saattaa puuttua puheenvuoroja. Puheenvuorot löytyvät kattavasti eduskunnan verkkosivuilta valtiopäiväasiat ja -asiakirjat -hakupalvelusta."
      ]
     },
     "metadata": {},
     "output_type": "display_data"
    }
   ],
   "source": [
    "with pd.option_context('display.max_colwidth', 400):\n",
    "    display(pd.read_excel(\"./src/T__ysistuntojen_puheenvuorot_23082022.xlsx\", sheet_name=\"Johdanto\"))"
   ]
  },
  {
   "attachments": {},
   "cell_type": "markdown",
   "metadata": {},
   "source": [
    "Some insights from the metadata above:\n",
    "1. *Speeches may be missing from the table*\n",
    "2. Last updated on 4 August 2022\n",
    "\n",
    "Next, let's get the data itself."
   ]
  },
  {
   "attachments": {},
   "cell_type": "markdown",
   "metadata": {},
   "source": [
    "#### Import xlsx & info"
   ]
  },
  {
   "cell_type": "code",
   "execution_count": 3,
   "metadata": {},
   "outputs": [
    {
     "data": {
      "text/html": [
       "<div>\n",
       "<style scoped>\n",
       "    .dataframe tbody tr th:only-of-type {\n",
       "        vertical-align: middle;\n",
       "    }\n",
       "\n",
       "    .dataframe tbody tr th {\n",
       "        vertical-align: top;\n",
       "    }\n",
       "\n",
       "    .dataframe thead th {\n",
       "        text-align: right;\n",
       "    }\n",
       "</style>\n",
       "<table border=\"1\" class=\"dataframe\">\n",
       "  <thead>\n",
       "    <tr style=\"text-align: right;\">\n",
       "      <th></th>\n",
       "      <th>Käsittelyvaihe</th>\n",
       "      <th>Vireilletuloasiakirja</th>\n",
       "      <th>Järjestys</th>\n",
       "      <th>ID</th>\n",
       "      <th>Asema</th>\n",
       "      <th>Etunimi</th>\n",
       "      <th>Sukunimi</th>\n",
       "      <th>Eduskuntaryhmä</th>\n",
       "      <th>Puheenvuorotyyppi</th>\n",
       "      <th>Aloitusajankohta</th>\n",
       "      <th>Lopetusajankohta</th>\n",
       "      <th>Puheenvuoro</th>\n",
       "      <th>Pöytäkirjan verkko-osoite</th>\n",
       "    </tr>\n",
       "  </thead>\n",
       "  <tbody>\n",
       "    <tr>\n",
       "      <th>0</th>\n",
       "      <td>Ainoa käsittely</td>\n",
       "      <td>ETJ 1/2019 vp</td>\n",
       "      <td>1</td>\n",
       "      <td>1092</td>\n",
       "      <td>-</td>\n",
       "      <td>Mika</td>\n",
       "      <td>Niikko</td>\n",
       "      <td>ps</td>\n",
       "      <td>varsinainen puheenvuoro</td>\n",
       "      <td>2019-05-07 14:01:59</td>\n",
       "      <td>2019-05-07 14:06:50</td>\n",
       "      <td>Arvoisa puhemies ja hyvät kollegat! Valtiopäiv...</td>\n",
       "      <td>https://www.eduskunta.fi/FI/vaski/PoytakirjaAs...</td>\n",
       "    </tr>\n",
       "    <tr>\n",
       "      <th>1</th>\n",
       "      <td>Ainoa käsittely</td>\n",
       "      <td>ETJ 1/2019 vp</td>\n",
       "      <td>2</td>\n",
       "      <td>1437</td>\n",
       "      <td>-</td>\n",
       "      <td>Juha</td>\n",
       "      <td>Mäenpää</td>\n",
       "      <td>ps</td>\n",
       "      <td>varsinainen puheenvuoro</td>\n",
       "      <td>2019-05-07 14:06:55</td>\n",
       "      <td>2019-05-07 14:14:11</td>\n",
       "      <td>Arvoisa puhemies! Hyvät kollegat! Meiltä kansa...</td>\n",
       "      <td>https://www.eduskunta.fi/FI/vaski/PoytakirjaAs...</td>\n",
       "    </tr>\n",
       "    <tr>\n",
       "      <th>2</th>\n",
       "      <td>Ainoa käsittely</td>\n",
       "      <td>ETJ 1/2019 vp</td>\n",
       "      <td>3</td>\n",
       "      <td>1275</td>\n",
       "      <td>-</td>\n",
       "      <td>Mika</td>\n",
       "      <td>Raatikainen</td>\n",
       "      <td>ps</td>\n",
       "      <td>varsinainen puheenvuoro</td>\n",
       "      <td>2019-05-07 14:14:16</td>\n",
       "      <td>2019-05-07 14:14:53</td>\n",
       "      <td>Arvoisa rouva puhemies! Tarkoitus oli puhua pe...</td>\n",
       "      <td>https://www.eduskunta.fi/FI/vaski/PoytakirjaAs...</td>\n",
       "    </tr>\n",
       "  </tbody>\n",
       "</table>\n",
       "</div>"
      ],
      "text/plain": [
       "    Käsittelyvaihe Vireilletuloasiakirja  Järjestys    ID Asema Etunimi  \\\n",
       "0  Ainoa käsittely         ETJ 1/2019 vp          1  1092     -    Mika   \n",
       "1  Ainoa käsittely         ETJ 1/2019 vp          2  1437     -    Juha   \n",
       "2  Ainoa käsittely         ETJ 1/2019 vp          3  1275     -    Mika   \n",
       "\n",
       "      Sukunimi Eduskuntaryhmä        Puheenvuorotyyppi    Aloitusajankohta  \\\n",
       "0       Niikko             ps  varsinainen puheenvuoro 2019-05-07 14:01:59   \n",
       "1      Mäenpää             ps  varsinainen puheenvuoro 2019-05-07 14:06:55   \n",
       "2  Raatikainen             ps  varsinainen puheenvuoro 2019-05-07 14:14:16   \n",
       "\n",
       "      Lopetusajankohta                                        Puheenvuoro  \\\n",
       "0  2019-05-07 14:06:50  Arvoisa puhemies ja hyvät kollegat! Valtiopäiv...   \n",
       "1  2019-05-07 14:14:11  Arvoisa puhemies! Hyvät kollegat! Meiltä kansa...   \n",
       "2  2019-05-07 14:14:53  Arvoisa rouva puhemies! Tarkoitus oli puhua pe...   \n",
       "\n",
       "                           Pöytäkirjan verkko-osoite  \n",
       "0  https://www.eduskunta.fi/FI/vaski/PoytakirjaAs...  \n",
       "1  https://www.eduskunta.fi/FI/vaski/PoytakirjaAs...  \n",
       "2  https://www.eduskunta.fi/FI/vaski/PoytakirjaAs...  "
      ]
     },
     "execution_count": 3,
     "metadata": {},
     "output_type": "execute_result"
    }
   ],
   "source": [
    "# puheenvuorot, \"speeches\"\n",
    "pvt = pd.read_excel(\"./src/T__ysistuntojen_puheenvuorot_23082022.xlsx\", sheet_name=\"Puheenvuorot\")\n",
    "pvt.head(3)"
   ]
  },
  {
   "cell_type": "code",
   "execution_count": 4,
   "metadata": {},
   "outputs": [
    {
     "name": "stdout",
     "output_type": "stream",
     "text": [
      "<class 'pandas.core.frame.DataFrame'>\n",
      "RangeIndex: 36273 entries, 0 to 36272\n",
      "Data columns (total 13 columns):\n",
      " #   Column                     Non-Null Count  Dtype         \n",
      "---  ------                     --------------  -----         \n",
      " 0   Käsittelyvaihe             36273 non-null  object        \n",
      " 1   Vireilletuloasiakirja      36273 non-null  object        \n",
      " 2   Järjestys                  36273 non-null  int64         \n",
      " 3   ID                         36273 non-null  int64         \n",
      " 4   Asema                      36273 non-null  object        \n",
      " 5   Etunimi                    36273 non-null  object        \n",
      " 6   Sukunimi                   36273 non-null  object        \n",
      " 7   Eduskuntaryhmä             36273 non-null  object        \n",
      " 8   Puheenvuorotyyppi          36273 non-null  object        \n",
      " 9   Aloitusajankohta           36273 non-null  datetime64[ns]\n",
      " 10  Lopetusajankohta           36273 non-null  object        \n",
      " 11  Puheenvuoro                36273 non-null  object        \n",
      " 12  Pöytäkirjan verkko-osoite  36273 non-null  object        \n",
      "dtypes: datetime64[ns](1), int64(2), object(10)\n",
      "memory usage: 3.6+ MB\n"
     ]
    }
   ],
   "source": [
    "pvt.info()"
   ]
  },
  {
   "attachments": {},
   "cell_type": "markdown",
   "metadata": {},
   "source": [
    "### Confirming contents of columns\n",
    "\n",
    "While there appear to be **no null** values, let's check applicable columns either way.\n",
    "\n",
    "The following function is used to get value counts for a column from the pvt dataframe & can be used to get an overview of columns with categories & such (which function as kind of reference data later on)"
   ]
  },
  {
   "cell_type": "code",
   "execution_count": 5,
   "metadata": {},
   "outputs": [],
   "source": [
    "def plot_column_value_counts_from_pvt(col_name, bar_label_rot_angle=5, omit_rows_with_values=[]):\n",
    "    \n",
    "    # These are excluded from print. If omit_rows_with_values is empty, everything gets printed\n",
    "    plot_mask = pvt[col_name].isin(omit_rows_with_values)\n",
    "    working_pvt = pvt.drop(pvt.index[plot_mask])\n",
    "    \n",
    "    ax = working_pvt[col_name].value_counts().plot.bar(rot=bar_label_rot_angle)  # rotation to prevent texts overlapping\n",
    "\n",
    "    for i, val in enumerate(working_pvt[col_name].value_counts()):\n",
    "        ax.text(i, val, str(val), ha=\"center\")"
   ]
  },
  {
   "attachments": {},
   "cell_type": "markdown",
   "metadata": {},
   "source": [
    "#### Käsittelyvaihe"
   ]
  },
  {
   "cell_type": "code",
   "execution_count": 6,
   "metadata": {},
   "outputs": [
    {
     "name": "stdout",
     "output_type": "stream",
     "text": [
      "['Ainoa käsittely' 'Lähetekeskustelu' 'Ensimmäinen käsittely' 'Keskustelu'\n",
      " 'Suullinen kyselytunti' 'Toinen käsittely' 'Yksi käsittely'\n",
      " 'Toinen käsittely, ainoa käsittely'\n",
      " 'Osittain ainoa, osittain toinen käsittely' 'Mietinnön pöydällepano']\n",
      "10\n"
     ]
    }
   ],
   "source": [
    "column_name = \"Käsittelyvaihe\"\n",
    "\n",
    "print(pvt[column_name].unique())\n",
    "print(pvt[column_name].nunique())\n"
   ]
  },
  {
   "cell_type": "code",
   "execution_count": 7,
   "metadata": {},
   "outputs": [
    {
     "data": {
      "image/png": "[encoded data removed]",
      "text/plain": [
       "<Figure size 1800x504 with 1 Axes>"
      ]
     },
     "metadata": {
      "needs_background": "light"
     },
     "output_type": "display_data"
    }
   ],
   "source": [
    "# A wider figsize is useful\n",
    "figsize(25,7)\n",
    "\n",
    "plot_column_value_counts_from_pvt(column_name, 5)"
   ]
  },
  {
   "attachments": {},
   "cell_type": "markdown",
   "metadata": {},
   "source": [
    "This displays each row has a category for Käsittelyvaihe – ~phase of debate. Further descriptions of each could be included here. However, for now, they are omitted."
   ]
  },
  {
   "attachments": {},
   "cell_type": "markdown",
   "metadata": {},
   "source": [
    "#### Vireilletuloasiakirja\n",
    "These all cannot be plotted in a sensible way. This covers the document in which the topic was first brought into the parliament."
   ]
  },
  {
   "cell_type": "code",
   "execution_count": 8,
   "metadata": {},
   "outputs": [
    {
     "name": "stdout",
     "output_type": "stream",
     "text": [
      "1732\n"
     ]
    }
   ],
   "source": [
    "column_name = \"Vireilletuloasiakirja\"\n",
    "print(pvt[column_name].nunique())"
   ]
  },
  {
   "attachments": {},
   "cell_type": "markdown",
   "metadata": {},
   "source": [
    "#### Järjestys\n",
    "\n",
    "Covers the order of a speech per session (i.e. the ordinal number resets when a new session begins). As the column had only integers, it appears there are no problems."
   ]
  },
  {
   "attachments": {},
   "cell_type": "markdown",
   "metadata": {},
   "source": [
    "#### ID\n",
    "\n",
    "The identifier number of a MEP / person presenting. Again, the column consists of `int64` → every row has a value & we are good."
   ]
  },
  {
   "attachments": {},
   "cell_type": "markdown",
   "metadata": {},
   "source": [
    "#### Asema\n",
    "The position of a person giving a speech if they're a minister. "
   ]
  },
  {
   "cell_type": "code",
   "execution_count": 9,
   "metadata": {},
   "outputs": [
    {
     "name": "stdout",
     "output_type": "stream",
     "text": [
      "26\n"
     ]
    },
    {
     "data": {
      "text/plain": [
       "-                                                   31127\n",
       "Valtiovarainministeri                                 805\n",
       "Pääministeri                                          684\n",
       "Perhe- ja peruspalveluministeri                       565\n",
       "Sisäministeri                                         353\n",
       "Työministeri                                          305\n",
       "Elinkeinoministeri                                    304\n",
       "Oikeusministeri                                       294\n",
       "Sosiaali- ja terveysministeri                         234\n",
       "Ulkoministeri                                         229\n",
       "Opetusministeri                                       226\n",
       "Liikenne- ja viestintäministeri                       199\n",
       "Tiede- ja kulttuuriministeri                          176\n",
       "Maa- ja metsätalousministeri                          135\n",
       "Eurooppa- ja omistajaohjausministeri                  126\n",
       "Puolustusministeri                                    124\n",
       "Ympäristö- ja ilmastoministeri                        111\n",
       "Kuntaministeri                                         95\n",
       "Kehitysyhteistyö- ja ulkomaankauppaministeri           65\n",
       "Kunta- ja omistajaohjausministeri                      44\n",
       "Pohjoismaisen yhteistyön ja tasa-arvon ministeri       38\n",
       "Eduskunnan oikeusasiamies                              11\n",
       "Eurooppaministeri                                      10\n",
       "Valtioneuvoston oikeuskansleri                         10\n",
       "Eurooppa-, kulttuuri- ja urheiluministeri               2\n",
       "Perhe- ja peruspalveluministeri                         1\n",
       "Name: Asema, dtype: int64"
      ]
     },
     "execution_count": 9,
     "metadata": {},
     "output_type": "execute_result"
    }
   ],
   "source": [
    "column_name = \"Asema\"\n",
    "print(pvt[column_name].nunique())\n",
    "pvt[column_name].value_counts()"
   ]
  },
  {
   "cell_type": "code",
   "execution_count": 10,
   "metadata": {},
   "outputs": [
    {
     "data": {
      "image/png": "[encoded data removed]",
      "text/plain": [
       "<Figure size 1800x504 with 1 Axes>"
      ]
     },
     "metadata": {
      "needs_background": "light"
     },
     "output_type": "display_data"
    }
   ],
   "source": [
    "plot_column_value_counts_from_pvt(column_name, 45, [\"-\"])  # exclude non-ministers"
   ]
  },
  {
   "attachments": {},
   "cell_type": "markdown",
   "metadata": {},
   "source": [
    "On the topic of data quality, we can notice two things from here\n",
    "1. There appears to be one case where \"Perhe- ja peruspalveluministeri\" is written somehow differently. This shall be fixed for our working data, *while one row doesn't have a particularly big impact here*\n",
    "2. In future use, it should be noted some titles changed over the years & as a follow-up, their speeches can't be tracked as easily.\n",
    "   * E.g. \"Eurooppaministeri\", \"Eurooppa- ja omistajaohjausministeri\", \"Eurooppa-, kulttuuri- ja urheiluministeri\"\n",
    "   * They might be different people, too, but the \"incomparability between ministers\" shall be noted.\n",
    "\n",
    "Now, let's figure out what's wrong with `Perhe- ja peruspalveluministeri`"
   ]
  },
  {
   "cell_type": "code",
   "execution_count": 11,
   "metadata": {},
   "outputs": [
    {
     "data": {
      "text/plain": [
       "array(['-', 'Eurooppa-, kulttuuri- ja urheiluministeri', 'Pääministeri',\n",
       "       'Valtiovarainministeri', 'Liikenne- ja viestintäministeri',\n",
       "       'Perhe- ja peruspalveluministeri', 'Opetusministeri',\n",
       "       'Työministeri', 'Elinkeinoministeri',\n",
       "       'Sosiaali- ja terveysministeri', 'Sisäministeri',\n",
       "       'Eurooppaministeri',\n",
       "       'Kehitysyhteistyö- ja ulkomaankauppaministeri',\n",
       "       'Kunta- ja omistajaohjausministeri', 'Oikeusministeri',\n",
       "       'Pohjoismaisen yhteistyön ja tasa-arvon ministeri',\n",
       "       'Puolustusministeri', 'Ympäristö- ja ilmastoministeri',\n",
       "       'Tiede- ja kulttuuriministeri', 'Ulkoministeri',\n",
       "       'Eduskunnan oikeusasiamies', 'Maa- ja metsätalousministeri',\n",
       "       'Valtioneuvoston oikeuskansleri',\n",
       "       'Perhe- ja\\xa0peruspalveluministeri', 'Kuntaministeri',\n",
       "       'Eurooppa- ja omistajaohjausministeri'], dtype=object)"
      ]
     },
     "execution_count": 11,
     "metadata": {},
     "output_type": "execute_result"
    }
   ],
   "source": [
    "pvt[column_name].unique()"
   ]
  },
  {
   "attachments": {},
   "cell_type": "markdown",
   "metadata": {},
   "source": [
    "Based on the following print, it appears there's a different character as a space in one row which causes an error."
   ]
  },
  {
   "cell_type": "code",
   "execution_count": 12,
   "metadata": {},
   "outputs": [
    {
     "data": {
      "text/html": [
       "<div>\n",
       "<style scoped>\n",
       "    .dataframe tbody tr th:only-of-type {\n",
       "        vertical-align: middle;\n",
       "    }\n",
       "\n",
       "    .dataframe tbody tr th {\n",
       "        vertical-align: top;\n",
       "    }\n",
       "\n",
       "    .dataframe thead th {\n",
       "        text-align: right;\n",
       "    }\n",
       "</style>\n",
       "<table border=\"1\" class=\"dataframe\">\n",
       "  <thead>\n",
       "    <tr style=\"text-align: right;\">\n",
       "      <th></th>\n",
       "      <th>Käsittelyvaihe</th>\n",
       "      <th>Vireilletuloasiakirja</th>\n",
       "      <th>Järjestys</th>\n",
       "      <th>ID</th>\n",
       "      <th>Asema</th>\n",
       "      <th>Etunimi</th>\n",
       "      <th>Sukunimi</th>\n",
       "      <th>Eduskuntaryhmä</th>\n",
       "      <th>Puheenvuorotyyppi</th>\n",
       "      <th>Aloitusajankohta</th>\n",
       "      <th>Lopetusajankohta</th>\n",
       "      <th>Puheenvuoro</th>\n",
       "      <th>Pöytäkirjan verkko-osoite</th>\n",
       "    </tr>\n",
       "  </thead>\n",
       "  <tbody>\n",
       "    <tr>\n",
       "      <th>3210</th>\n",
       "      <td>Lähetekeskustelu</td>\n",
       "      <td>HE 22/2019 vp</td>\n",
       "      <td>1</td>\n",
       "      <td>960</td>\n",
       "      <td>Perhe- ja peruspalveluministeri</td>\n",
       "      <td>Krista</td>\n",
       "      <td>Kiuru</td>\n",
       "      <td>-</td>\n",
       "      <td>esittelypuheenvuoro</td>\n",
       "      <td>2019-10-15 14:00:47</td>\n",
       "      <td>2019-10-15 14:06:37</td>\n",
       "      <td>Arvoisa puhemies! Kyseinen hallituksen esitys ...</td>\n",
       "      <td>https://www.eduskunta.fi/FI/vaski/PoytakirjaAs...</td>\n",
       "    </tr>\n",
       "  </tbody>\n",
       "</table>\n",
       "</div>"
      ],
      "text/plain": [
       "        Käsittelyvaihe Vireilletuloasiakirja  Järjestys   ID  \\\n",
       "3210  Lähetekeskustelu         HE 22/2019 vp          1  960   \n",
       "\n",
       "                                Asema Etunimi Sukunimi Eduskuntaryhmä  \\\n",
       "3210  Perhe- ja peruspalveluministeri  Krista    Kiuru              -   \n",
       "\n",
       "        Puheenvuorotyyppi    Aloitusajankohta     Lopetusajankohta  \\\n",
       "3210  esittelypuheenvuoro 2019-10-15 14:00:47  2019-10-15 14:06:37   \n",
       "\n",
       "                                            Puheenvuoro  \\\n",
       "3210  Arvoisa puhemies! Kyseinen hallituksen esitys ...   \n",
       "\n",
       "                              Pöytäkirjan verkko-osoite  \n",
       "3210  https://www.eduskunta.fi/FI/vaski/PoytakirjaAs...  "
      ]
     },
     "execution_count": 12,
     "metadata": {},
     "output_type": "execute_result"
    }
   ],
   "source": [
    "pvt[pvt[column_name] == 'Perhe- ja\\xa0peruspalveluministeri']"
   ]
  },
  {
   "cell_type": "code",
   "execution_count": 13,
   "metadata": {},
   "outputs": [
    {
     "name": "stderr",
     "output_type": "stream",
     "text": [
      "C:\\Users\\Ari\\AppData\\Local\\Temp\\ipykernel_37420\\1306601356.py:2: SettingWithCopyWarning: \n",
      "A value is trying to be set on a copy of a slice from a DataFrame.\n",
      "Try using .loc[row_indexer,col_indexer] = value instead\n",
      "\n",
      "See the caveats in the documentation: https://pandas.pydata.org/pandas-docs/stable/user_guide/indexing.html#returning-a-view-versus-a-copy\n",
      "  pvt[pvt[column_name] == 'Perhe- ja\\xa0peruspalveluministeri'][column_name] = \"Perhe- ja peruspalveluministeri\"\n"
     ]
    }
   ],
   "source": [
    "# Let's replace the name with the same one from the data above\n",
    "pvt[pvt[column_name] == 'Perhe- ja\\xa0peruspalveluministeri'][column_name] = \"Perhe- ja peruspalveluministeri\""
   ]
  },
  {
   "cell_type": "code",
   "execution_count": 14,
   "metadata": {},
   "outputs": [],
   "source": [
    "# So apparently I should instead use .loc instead. For that I get the row indexer from above\n",
    "pvt.loc[3210,\"Asema\"] = \"Perhe- ja peruspalveluministeri\""
   ]
  },
  {
   "attachments": {},
   "cell_type": "markdown",
   "metadata": {},
   "source": [
    "Well, that little error is fixed now, either way."
   ]
  },
  {
   "cell_type": "code",
   "execution_count": 15,
   "metadata": {},
   "outputs": [
    {
     "data": {
      "image/png": "[encoded data removed]",
      "text/plain": [
       "<Figure size 1800x504 with 1 Axes>"
      ]
     },
     "metadata": {
      "needs_background": "light"
     },
     "output_type": "display_data"
    }
   ],
   "source": [
    "plot_column_value_counts_from_pvt(column_name, 45, [\"-\"])"
   ]
  },
  {
   "attachments": {},
   "cell_type": "markdown",
   "metadata": {},
   "source": [
    "#### Eduskuntaryhmä\n",
    "\n",
    "Similar check can be done for this column. It describes the parliamentary group of a person. They appear to have no issues"
   ]
  },
  {
   "cell_type": "code",
   "execution_count": 16,
   "metadata": {},
   "outputs": [
    {
     "data": {
      "image/png": "[encoded data removed]",
      "text/plain": [
       "<Figure size 1800x504 with 1 Axes>"
      ]
     },
     "metadata": {
      "needs_background": "light"
     },
     "output_type": "display_data"
    }
   ],
   "source": [
    "column_name = \"Eduskuntaryhmä\"\n",
    "plot_column_value_counts_from_pvt(column_name, 0)"
   ]
  },
  {
   "attachments": {},
   "cell_type": "markdown",
   "metadata": {},
   "source": [
    "#### Puheenvuorotyyppi\n",
    "\n",
    "The type of a speech"
   ]
  },
  {
   "cell_type": "code",
   "execution_count": 17,
   "metadata": {},
   "outputs": [
    {
     "data": {
      "image/png": "[encoded data removed]",
      "text/plain": [
       "<Figure size 1800x504 with 1 Axes>"
      ]
     },
     "metadata": {
      "needs_background": "light"
     },
     "output_type": "display_data"
    }
   ],
   "source": [
    "column_name = \"Puheenvuorotyyppi\"\n",
    "plot_column_value_counts_from_pvt(column_name, 45)"
   ]
  },
  {
   "cell_type": "code",
   "execution_count": 18,
   "metadata": {},
   "outputs": [
    {
     "data": {
      "text/html": [
       "<div>\n",
       "<style scoped>\n",
       "    .dataframe tbody tr th:only-of-type {\n",
       "        vertical-align: middle;\n",
       "    }\n",
       "\n",
       "    .dataframe tbody tr th {\n",
       "        vertical-align: top;\n",
       "    }\n",
       "\n",
       "    .dataframe thead th {\n",
       "        text-align: right;\n",
       "    }\n",
       "</style>\n",
       "<table border=\"1\" class=\"dataframe\">\n",
       "  <thead>\n",
       "    <tr style=\"text-align: right;\">\n",
       "      <th></th>\n",
       "      <th>Käsittelyvaihe</th>\n",
       "      <th>Vireilletuloasiakirja</th>\n",
       "      <th>Järjestys</th>\n",
       "      <th>ID</th>\n",
       "      <th>Asema</th>\n",
       "      <th>Etunimi</th>\n",
       "      <th>Sukunimi</th>\n",
       "      <th>Eduskuntaryhmä</th>\n",
       "      <th>Puheenvuorotyyppi</th>\n",
       "      <th>Aloitusajankohta</th>\n",
       "      <th>Lopetusajankohta</th>\n",
       "      <th>Puheenvuoro</th>\n",
       "      <th>Pöytäkirjan verkko-osoite</th>\n",
       "    </tr>\n",
       "  </thead>\n",
       "  <tbody>\n",
       "    <tr>\n",
       "      <th>31368</th>\n",
       "      <td>Ensimmäinen käsittely</td>\n",
       "      <td>HE 239/2021 vp</td>\n",
       "      <td>12</td>\n",
       "      <td>1149</td>\n",
       "      <td>-</td>\n",
       "      <td>Markus</td>\n",
       "      <td>Lohi</td>\n",
       "      <td>kesk</td>\n",
       "      <td>V</td>\n",
       "      <td>2022-01-25 14:32:33</td>\n",
       "      <td>2022-01-25 14:33:42</td>\n",
       "      <td>Arvoisa puhemies! Ymmärrän edustaja Kauman toi...</td>\n",
       "      <td>https://www.eduskunta.fi/FI/vaski/PoytakirjaAs...</td>\n",
       "    </tr>\n",
       "  </tbody>\n",
       "</table>\n",
       "</div>"
      ],
      "text/plain": [
       "              Käsittelyvaihe Vireilletuloasiakirja  Järjestys    ID Asema  \\\n",
       "31368  Ensimmäinen käsittely        HE 239/2021 vp         12  1149     -   \n",
       "\n",
       "      Etunimi Sukunimi Eduskuntaryhmä Puheenvuorotyyppi    Aloitusajankohta  \\\n",
       "31368  Markus     Lohi           kesk                 V 2022-01-25 14:32:33   \n",
       "\n",
       "          Lopetusajankohta                                        Puheenvuoro  \\\n",
       "31368  2022-01-25 14:33:42  Arvoisa puhemies! Ymmärrän edustaja Kauman toi...   \n",
       "\n",
       "                               Pöytäkirjan verkko-osoite  \n",
       "31368  https://www.eduskunta.fi/FI/vaski/PoytakirjaAs...  "
      ]
     },
     "metadata": {},
     "output_type": "display_data"
    },
    {
     "data": {
      "text/plain": [
       "'https://www.eduskunta.fi/FI/vaski/PoytakirjaAsiakohta/Sivut/PTK_165+2021+2.aspx'"
      ]
     },
     "execution_count": 18,
     "metadata": {},
     "output_type": "execute_result"
    }
   ],
   "source": [
    "display(pvt[pvt[column_name] == 'V'])\n",
    "pvt.loc[31368, \"Pöytäkirjan verkko-osoite\"]"
   ]
  },
  {
   "attachments": {},
   "cell_type": "markdown",
   "metadata": {},
   "source": [
    "Based on the minutes, this is a vastauspuheenvuoro (reply/response), let's replace it correctly.\n",
    "\n",
    "The definition/meaning of blanks (`\"-\"`) remain a mystery, but there are no other errors in the data."
   ]
  },
  {
   "cell_type": "code",
   "execution_count": 19,
   "metadata": {},
   "outputs": [
    {
     "data": {
      "image/png": "[encoded data removed]",
      "text/plain": [
       "<Figure size 1800x504 with 1 Axes>"
      ]
     },
     "metadata": {
      "needs_background": "light"
     },
     "output_type": "display_data"
    }
   ],
   "source": [
    "pvt.loc[31368, column_name] = \"vastauspuheenvuoro\"\n",
    "plot_column_value_counts_from_pvt(column_name, 0)"
   ]
  },
  {
   "attachments": {},
   "cell_type": "markdown",
   "metadata": {},
   "source": [
    "#### Aloitusajankohta\n",
    "\n",
    "The starting time of a speech. According to `pd.info()` the column should be ok."
   ]
  },
  {
   "attachments": {},
   "cell_type": "markdown",
   "metadata": {},
   "source": [
    "#### Lopetusajankohta\n",
    "\n",
    "The ending time of a speech. The fact the datatype of \"is `object` (e.g. `string`) instead of `datetime64[ns]` suggests there are some problems. "
   ]
  },
  {
   "cell_type": "code",
   "execution_count": 20,
   "metadata": {},
   "outputs": [],
   "source": [
    "column_name = \"Lopetusajankohta\"\n",
    "#pvt[column_name].sort_values(axis=\"index\")\n",
    "# causes Type error\n",
    "# TypeError: '<' not supported between instances of 'str' and 'datetime.datetime'"
   ]
  },
  {
   "attachments": {},
   "cell_type": "markdown",
   "metadata": {},
   "source": [
    "So we do have some string values included. At this point exploring with Excel appears to be the practical option which I did, but let's continue it with pandas, too."
   ]
  },
  {
   "cell_type": "code",
   "execution_count": 21,
   "metadata": {},
   "outputs": [
    {
     "data": {
      "text/plain": [
       "-                      237\n",
       "2021-05-15 02:31:21     10\n",
       "2020-04-28 14:38:13      2\n",
       "2020-04-28 14:40:47      2\n",
       "2020-04-28 14:47:09      2\n",
       "                      ... \n",
       "2020-06-22 16:07:58      1\n",
       "2020-06-22 16:05:22      1\n",
       "2020-06-22 16:03:32      1\n",
       "2020-06-22 16:00:29      1\n",
       "2022-07-07 10:54:00      1\n",
       "Name: Lopetusajankohta, Length: 35997, dtype: int64"
      ]
     },
     "execution_count": 21,
     "metadata": {},
     "output_type": "execute_result"
    }
   ],
   "source": [
    "# Count types\n",
    "pvt[column_name].value_counts()"
   ]
  },
  {
   "attachments": {},
   "cell_type": "markdown",
   "metadata": {},
   "source": [
    "Well, \n",
    "* apparently 10 speeches were held till 2am in May 2021. Let's have a look\n",
    "* On April 28, there were some errors give multiple speeches were ended at the same time UNLESS certain types of speeches are logged to transpire during each other. Without knowing the context particularly well, this could be the case for a \"nopeatahtinen keskustelu\" (fast-tempo discussion)\n",
    "* ABOVE ALL, some speeches lack the end in the first place!\n",
    "\n",
    "Let's investigate each of these one by one"
   ]
  },
  {
   "cell_type": "code",
   "execution_count": 22,
   "metadata": {},
   "outputs": [
    {
     "data": {
      "text/html": [
       "<div>\n",
       "<style scoped>\n",
       "    .dataframe tbody tr th:only-of-type {\n",
       "        vertical-align: middle;\n",
       "    }\n",
       "\n",
       "    .dataframe tbody tr th {\n",
       "        vertical-align: top;\n",
       "    }\n",
       "\n",
       "    .dataframe thead th {\n",
       "        text-align: right;\n",
       "    }\n",
       "</style>\n",
       "<table border=\"1\" class=\"dataframe\">\n",
       "  <thead>\n",
       "    <tr style=\"text-align: right;\">\n",
       "      <th></th>\n",
       "      <th>Käsittelyvaihe</th>\n",
       "      <th>Vireilletuloasiakirja</th>\n",
       "      <th>Järjestys</th>\n",
       "      <th>ID</th>\n",
       "      <th>Asema</th>\n",
       "      <th>Etunimi</th>\n",
       "      <th>Sukunimi</th>\n",
       "      <th>Eduskuntaryhmä</th>\n",
       "      <th>Puheenvuorotyyppi</th>\n",
       "      <th>Aloitusajankohta</th>\n",
       "      <th>Lopetusajankohta</th>\n",
       "      <th>Puheenvuoro</th>\n",
       "      <th>Pöytäkirjan verkko-osoite</th>\n",
       "    </tr>\n",
       "  </thead>\n",
       "  <tbody>\n",
       "    <tr>\n",
       "      <th>23279</th>\n",
       "      <td>Ainoa käsittely</td>\n",
       "      <td>HE 260/2020 vp</td>\n",
       "      <td>265</td>\n",
       "      <td>1451</td>\n",
       "      <td>-</td>\n",
       "      <td>Sebastian</td>\n",
       "      <td>Tynkkynen</td>\n",
       "      <td>ps</td>\n",
       "      <td>varsinainen puheenvuoro</td>\n",
       "      <td>2021-05-14 18:05:53</td>\n",
       "      <td>2021-05-15 02:31:21</td>\n",
       "      <td>Arvoisa rouva puhemies! Täällä salissa on vali...</td>\n",
       "      <td>https://www.eduskunta.fi/FI/vaski/PoytakirjaAs...</td>\n",
       "    </tr>\n",
       "    <tr>\n",
       "      <th>23280</th>\n",
       "      <td>Ainoa käsittely</td>\n",
       "      <td>HE 260/2020 vp</td>\n",
       "      <td>265</td>\n",
       "      <td>1451</td>\n",
       "      <td>-</td>\n",
       "      <td>Sebastian</td>\n",
       "      <td>Tynkkynen</td>\n",
       "      <td>ps</td>\n",
       "      <td>varsinainen puheenvuoro</td>\n",
       "      <td>2021-05-14 18:05:53</td>\n",
       "      <td>2021-05-15 02:31:21</td>\n",
       "      <td>huomioitaisiin hallituksen toimesta toivotulla...</td>\n",
       "      <td>https://www.eduskunta.fi/FI/vaski/PoytakirjaAs...</td>\n",
       "    </tr>\n",
       "    <tr>\n",
       "      <th>23281</th>\n",
       "      <td>Ainoa käsittely</td>\n",
       "      <td>HE 260/2020 vp</td>\n",
       "      <td>265</td>\n",
       "      <td>1451</td>\n",
       "      <td>-</td>\n",
       "      <td>Sebastian</td>\n",
       "      <td>Tynkkynen</td>\n",
       "      <td>ps</td>\n",
       "      <td>varsinainen puheenvuoro</td>\n",
       "      <td>2021-05-14 18:05:53</td>\n",
       "      <td>2021-05-15 02:31:21</td>\n",
       "      <td>tehdään, että ne toimisivat tukirankana myös v...</td>\n",
       "      <td>https://www.eduskunta.fi/FI/vaski/PoytakirjaAs...</td>\n",
       "    </tr>\n",
       "    <tr>\n",
       "      <th>23282</th>\n",
       "      <td>Ainoa käsittely</td>\n",
       "      <td>HE 260/2020 vp</td>\n",
       "      <td>265</td>\n",
       "      <td>1451</td>\n",
       "      <td>-</td>\n",
       "      <td>Sebastian</td>\n",
       "      <td>Tynkkynen</td>\n",
       "      <td>ps</td>\n",
       "      <td>varsinainen puheenvuoro</td>\n",
       "      <td>2021-05-14 18:05:53</td>\n",
       "      <td>2021-05-15 02:31:21</td>\n",
       "      <td>jäsenyydestä, ovat kriisien ja integraatiokehi...</td>\n",
       "      <td>https://www.eduskunta.fi/FI/vaski/PoytakirjaAs...</td>\n",
       "    </tr>\n",
       "    <tr>\n",
       "      <th>23283</th>\n",
       "      <td>Ainoa käsittely</td>\n",
       "      <td>HE 260/2020 vp</td>\n",
       "      <td>265</td>\n",
       "      <td>1451</td>\n",
       "      <td>-</td>\n",
       "      <td>Sebastian</td>\n",
       "      <td>Tynkkynen</td>\n",
       "      <td>ps</td>\n",
       "      <td>varsinainen puheenvuoro</td>\n",
       "      <td>2021-05-14 18:05:53</td>\n",
       "      <td>2021-05-15 02:31:21</td>\n",
       "      <td>kannustimia julkistalouksiensa tervehdyttämise...</td>\n",
       "      <td>https://www.eduskunta.fi/FI/vaski/PoytakirjaAs...</td>\n",
       "    </tr>\n",
       "    <tr>\n",
       "      <th>23284</th>\n",
       "      <td>Ainoa käsittely</td>\n",
       "      <td>HE 260/2020 vp</td>\n",
       "      <td>265</td>\n",
       "      <td>1451</td>\n",
       "      <td>-</td>\n",
       "      <td>Sebastian</td>\n",
       "      <td>Tynkkynen</td>\n",
       "      <td>ps</td>\n",
       "      <td>varsinainen puheenvuoro</td>\n",
       "      <td>2021-05-14 18:05:53</td>\n",
       "      <td>2021-05-15 02:31:21</td>\n",
       "      <td>vaikutukset Suomelle plus- vai miinusmerkkiset...</td>\n",
       "      <td>https://www.eduskunta.fi/FI/vaski/PoytakirjaAs...</td>\n",
       "    </tr>\n",
       "    <tr>\n",
       "      <th>23285</th>\n",
       "      <td>Ainoa käsittely</td>\n",
       "      <td>HE 260/2020 vp</td>\n",
       "      <td>265</td>\n",
       "      <td>1451</td>\n",
       "      <td>-</td>\n",
       "      <td>Sebastian</td>\n",
       "      <td>Tynkkynen</td>\n",
       "      <td>ps</td>\n",
       "      <td>varsinainen puheenvuoro</td>\n",
       "      <td>2021-05-14 18:05:53</td>\n",
       "      <td>2021-05-15 02:31:21</td>\n",
       "      <td>muotoiluissaan ja ilmaisuissaan yksiselitteisi...</td>\n",
       "      <td>https://www.eduskunta.fi/FI/vaski/PoytakirjaAs...</td>\n",
       "    </tr>\n",
       "    <tr>\n",
       "      <th>23286</th>\n",
       "      <td>Ainoa käsittely</td>\n",
       "      <td>HE 260/2020 vp</td>\n",
       "      <td>265</td>\n",
       "      <td>1451</td>\n",
       "      <td>-</td>\n",
       "      <td>Sebastian</td>\n",
       "      <td>Tynkkynen</td>\n",
       "      <td>ps</td>\n",
       "      <td>varsinainen puheenvuoro</td>\n",
       "      <td>2021-05-14 18:05:53</td>\n",
       "      <td>2021-05-15 02:31:21</td>\n",
       "      <td>tästä. Toivotaan, että myöskin keskustan kansa...</td>\n",
       "      <td>https://www.eduskunta.fi/FI/vaski/PoytakirjaAs...</td>\n",
       "    </tr>\n",
       "    <tr>\n",
       "      <th>23287</th>\n",
       "      <td>Ainoa käsittely</td>\n",
       "      <td>HE 260/2020 vp</td>\n",
       "      <td>265</td>\n",
       "      <td>1451</td>\n",
       "      <td>-</td>\n",
       "      <td>Sebastian</td>\n",
       "      <td>Tynkkynen</td>\n",
       "      <td>ps</td>\n",
       "      <td>varsinainen puheenvuoro</td>\n",
       "      <td>2021-05-14 18:05:53</td>\n",
       "      <td>2021-05-15 02:31:21</td>\n",
       "      <td>hirveä määrä. Seuraava viesti: ”Moro! Jos viel...</td>\n",
       "      <td>https://www.eduskunta.fi/FI/vaski/PoytakirjaAs...</td>\n",
       "    </tr>\n",
       "    <tr>\n",
       "      <th>23288</th>\n",
       "      <td>Ainoa käsittely</td>\n",
       "      <td>HE 260/2020 vp</td>\n",
       "      <td>265</td>\n",
       "      <td>1451</td>\n",
       "      <td>-</td>\n",
       "      <td>Sebastian</td>\n",
       "      <td>Tynkkynen</td>\n",
       "      <td>ps</td>\n",
       "      <td>varsinainen puheenvuoro</td>\n",
       "      <td>2021-05-14 18:05:53</td>\n",
       "      <td>2021-05-15 02:31:21</td>\n",
       "      <td>On ollut polttava kiire ja välttämätön tarve. ...</td>\n",
       "      <td>https://www.eduskunta.fi/FI/vaski/PoytakirjaAs...</td>\n",
       "    </tr>\n",
       "  </tbody>\n",
       "</table>\n",
       "</div>"
      ],
      "text/plain": [
       "        Käsittelyvaihe Vireilletuloasiakirja  Järjestys    ID Asema  \\\n",
       "23279  Ainoa käsittely        HE 260/2020 vp        265  1451     -   \n",
       "23280  Ainoa käsittely        HE 260/2020 vp        265  1451     -   \n",
       "23281  Ainoa käsittely        HE 260/2020 vp        265  1451     -   \n",
       "23282  Ainoa käsittely        HE 260/2020 vp        265  1451     -   \n",
       "23283  Ainoa käsittely        HE 260/2020 vp        265  1451     -   \n",
       "23284  Ainoa käsittely        HE 260/2020 vp        265  1451     -   \n",
       "23285  Ainoa käsittely        HE 260/2020 vp        265  1451     -   \n",
       "23286  Ainoa käsittely        HE 260/2020 vp        265  1451     -   \n",
       "23287  Ainoa käsittely        HE 260/2020 vp        265  1451     -   \n",
       "23288  Ainoa käsittely        HE 260/2020 vp        265  1451     -   \n",
       "\n",
       "         Etunimi   Sukunimi Eduskuntaryhmä        Puheenvuorotyyppi  \\\n",
       "23279  Sebastian  Tynkkynen             ps  varsinainen puheenvuoro   \n",
       "23280  Sebastian  Tynkkynen             ps  varsinainen puheenvuoro   \n",
       "23281  Sebastian  Tynkkynen             ps  varsinainen puheenvuoro   \n",
       "23282  Sebastian  Tynkkynen             ps  varsinainen puheenvuoro   \n",
       "23283  Sebastian  Tynkkynen             ps  varsinainen puheenvuoro   \n",
       "23284  Sebastian  Tynkkynen             ps  varsinainen puheenvuoro   \n",
       "23285  Sebastian  Tynkkynen             ps  varsinainen puheenvuoro   \n",
       "23286  Sebastian  Tynkkynen             ps  varsinainen puheenvuoro   \n",
       "23287  Sebastian  Tynkkynen             ps  varsinainen puheenvuoro   \n",
       "23288  Sebastian  Tynkkynen             ps  varsinainen puheenvuoro   \n",
       "\n",
       "         Aloitusajankohta     Lopetusajankohta  \\\n",
       "23279 2021-05-14 18:05:53  2021-05-15 02:31:21   \n",
       "23280 2021-05-14 18:05:53  2021-05-15 02:31:21   \n",
       "23281 2021-05-14 18:05:53  2021-05-15 02:31:21   \n",
       "23282 2021-05-14 18:05:53  2021-05-15 02:31:21   \n",
       "23283 2021-05-14 18:05:53  2021-05-15 02:31:21   \n",
       "23284 2021-05-14 18:05:53  2021-05-15 02:31:21   \n",
       "23285 2021-05-14 18:05:53  2021-05-15 02:31:21   \n",
       "23286 2021-05-14 18:05:53  2021-05-15 02:31:21   \n",
       "23287 2021-05-14 18:05:53  2021-05-15 02:31:21   \n",
       "23288 2021-05-14 18:05:53  2021-05-15 02:31:21   \n",
       "\n",
       "                                             Puheenvuoro  \\\n",
       "23279  Arvoisa rouva puhemies! Täällä salissa on vali...   \n",
       "23280  huomioitaisiin hallituksen toimesta toivotulla...   \n",
       "23281  tehdään, että ne toimisivat tukirankana myös v...   \n",
       "23282  jäsenyydestä, ovat kriisien ja integraatiokehi...   \n",
       "23283  kannustimia julkistalouksiensa tervehdyttämise...   \n",
       "23284  vaikutukset Suomelle plus- vai miinusmerkkiset...   \n",
       "23285  muotoiluissaan ja ilmaisuissaan yksiselitteisi...   \n",
       "23286  tästä. Toivotaan, että myöskin keskustan kansa...   \n",
       "23287  hirveä määrä. Seuraava viesti: ”Moro! Jos viel...   \n",
       "23288  On ollut polttava kiire ja välttämätön tarve. ...   \n",
       "\n",
       "                               Pöytäkirjan verkko-osoite  \n",
       "23279  https://www.eduskunta.fi/FI/vaski/PoytakirjaAs...  \n",
       "23280  https://www.eduskunta.fi/FI/vaski/PoytakirjaAs...  \n",
       "23281  https://www.eduskunta.fi/FI/vaski/PoytakirjaAs...  \n",
       "23282  https://www.eduskunta.fi/FI/vaski/PoytakirjaAs...  \n",
       "23283  https://www.eduskunta.fi/FI/vaski/PoytakirjaAs...  \n",
       "23284  https://www.eduskunta.fi/FI/vaski/PoytakirjaAs...  \n",
       "23285  https://www.eduskunta.fi/FI/vaski/PoytakirjaAs...  \n",
       "23286  https://www.eduskunta.fi/FI/vaski/PoytakirjaAs...  \n",
       "23287  https://www.eduskunta.fi/FI/vaski/PoytakirjaAs...  \n",
       "23288  https://www.eduskunta.fi/FI/vaski/PoytakirjaAs...  "
      ]
     },
     "execution_count": 22,
     "metadata": {},
     "output_type": "execute_result"
    }
   ],
   "source": [
    "# 1. May 15 2021 2am\n",
    "\n",
    "pvt[pvt[column_name] == pd.to_datetime(\"2021-05-15 02:31:21\")]"
   ]
  },
  {
   "attachments": {},
   "cell_type": "markdown",
   "metadata": {},
   "source": [
    "1. Ah, it's just a casual 8-hour speech, apparently. Come to think about it, I probably heard about this back then."
   ]
  },
  {
   "cell_type": "code",
   "execution_count": 23,
   "metadata": {},
   "outputs": [
    {
     "data": {
      "text/html": [
       "<div>\n",
       "<style scoped>\n",
       "    .dataframe tbody tr th:only-of-type {\n",
       "        vertical-align: middle;\n",
       "    }\n",
       "\n",
       "    .dataframe tbody tr th {\n",
       "        vertical-align: top;\n",
       "    }\n",
       "\n",
       "    .dataframe thead th {\n",
       "        text-align: right;\n",
       "    }\n",
       "</style>\n",
       "<table border=\"1\" class=\"dataframe\">\n",
       "  <thead>\n",
       "    <tr style=\"text-align: right;\">\n",
       "      <th></th>\n",
       "      <th>Käsittelyvaihe</th>\n",
       "      <th>Vireilletuloasiakirja</th>\n",
       "      <th>Järjestys</th>\n",
       "      <th>ID</th>\n",
       "      <th>Asema</th>\n",
       "      <th>Etunimi</th>\n",
       "      <th>Sukunimi</th>\n",
       "      <th>Eduskuntaryhmä</th>\n",
       "      <th>Puheenvuorotyyppi</th>\n",
       "      <th>Aloitusajankohta</th>\n",
       "      <th>Lopetusajankohta</th>\n",
       "      <th>Puheenvuoro</th>\n",
       "      <th>Pöytäkirjan verkko-osoite</th>\n",
       "    </tr>\n",
       "  </thead>\n",
       "  <tbody>\n",
       "    <tr>\n",
       "      <th>10127</th>\n",
       "      <td>Toinen käsittely, ainoa käsittely</td>\n",
       "      <td>HE 44/2020 vp</td>\n",
       "      <td>1</td>\n",
       "      <td>778</td>\n",
       "      <td>-</td>\n",
       "      <td>Sari</td>\n",
       "      <td>Essayah</td>\n",
       "      <td>kd</td>\n",
       "      <td>varsinainen puheenvuoro</td>\n",
       "      <td>2020-04-28 14:35:13</td>\n",
       "      <td>2020-04-28 14:38:13</td>\n",
       "      <td>Arvoisa puhemies! Tämäkin hallituksen esitys l...</td>\n",
       "      <td>https://www.eduskunta.fi/FI/vaski/PoytakirjaAs...</td>\n",
       "    </tr>\n",
       "    <tr>\n",
       "      <th>10128</th>\n",
       "      <td>Toinen käsittely, ainoa käsittely</td>\n",
       "      <td>HE 44/2020 vp</td>\n",
       "      <td>1</td>\n",
       "      <td>778</td>\n",
       "      <td>-</td>\n",
       "      <td>Sari</td>\n",
       "      <td>Essayah</td>\n",
       "      <td>kd</td>\n",
       "      <td>varsinainen puheenvuoro</td>\n",
       "      <td>2020-04-28 14:35:13</td>\n",
       "      <td>2020-04-28 14:38:13</td>\n",
       "      <td>Arvoisa puhemies! Tämäkin hallituksen esitys l...</td>\n",
       "      <td>https://www.eduskunta.fi/FI/vaski/PoytakirjaAs...</td>\n",
       "    </tr>\n",
       "  </tbody>\n",
       "</table>\n",
       "</div>"
      ],
      "text/plain": [
       "                          Käsittelyvaihe Vireilletuloasiakirja  Järjestys  \\\n",
       "10127  Toinen käsittely, ainoa käsittely         HE 44/2020 vp          1   \n",
       "10128  Toinen käsittely, ainoa käsittely         HE 44/2020 vp          1   \n",
       "\n",
       "        ID Asema Etunimi Sukunimi Eduskuntaryhmä        Puheenvuorotyyppi  \\\n",
       "10127  778     -    Sari  Essayah             kd  varsinainen puheenvuoro   \n",
       "10128  778     -    Sari  Essayah             kd  varsinainen puheenvuoro   \n",
       "\n",
       "         Aloitusajankohta     Lopetusajankohta  \\\n",
       "10127 2020-04-28 14:35:13  2020-04-28 14:38:13   \n",
       "10128 2020-04-28 14:35:13  2020-04-28 14:38:13   \n",
       "\n",
       "                                             Puheenvuoro  \\\n",
       "10127  Arvoisa puhemies! Tämäkin hallituksen esitys l...   \n",
       "10128  Arvoisa puhemies! Tämäkin hallituksen esitys l...   \n",
       "\n",
       "                               Pöytäkirjan verkko-osoite  \n",
       "10127  https://www.eduskunta.fi/FI/vaski/PoytakirjaAs...  \n",
       "10128  https://www.eduskunta.fi/FI/vaski/PoytakirjaAs...  "
      ]
     },
     "execution_count": 23,
     "metadata": {},
     "output_type": "execute_result"
    }
   ],
   "source": [
    "# 2. April 28, 2020 multiple speeches ending at the same time\n",
    "pvt[(pvt[column_name] == pd.to_datetime(\"2020-04-28 14:38:13\"))]"
   ]
  },
  {
   "cell_type": "code",
   "execution_count": 24,
   "metadata": {},
   "outputs": [
    {
     "data": {
      "text/plain": [
       "Käsittelyvaihe                True\n",
       "Vireilletuloasiakirja         True\n",
       "Järjestys                     True\n",
       "ID                            True\n",
       "Asema                         True\n",
       "Etunimi                       True\n",
       "Sukunimi                      True\n",
       "Eduskuntaryhmä                True\n",
       "Puheenvuorotyyppi             True\n",
       "Aloitusajankohta              True\n",
       "Lopetusajankohta              True\n",
       "Puheenvuoro                   True\n",
       "Pöytäkirjan verkko-osoite    False\n",
       "dtype: bool"
      ]
     },
     "execution_count": 24,
     "metadata": {},
     "output_type": "execute_result"
    }
   ],
   "source": [
    "# Appears duplicate, is it?\n",
    "\n",
    "pvt.loc[10127,:] == pvt.loc[10128,:]"
   ]
  },
  {
   "cell_type": "code",
   "execution_count": 25,
   "metadata": {},
   "outputs": [
    {
     "name": "stdout",
     "output_type": "stream",
     "text": [
      "https://www.eduskunta.fi/FI/vaski/PoytakirjaAsiakohta/Sivut/PTK_63+2020+2.aspx\n",
      "https://www.eduskunta.fi/FI/vaski/PoytakirjaAsiakohta/Sivut/PTK_63+2020+4.aspx\n"
     ]
    }
   ],
   "source": [
    "# How do they differ?\n",
    "\n",
    "print(pvt.loc[10127,\"Pöytäkirjan verkko-osoite\"])\n",
    "print(pvt.loc[10128,\"Pöytäkirjan verkko-osoite\"])"
   ]
  },
  {
   "attachments": {},
   "cell_type": "markdown",
   "metadata": {},
   "source": [
    "So the links to minutes change slightly, but the written contents are actually identical. Including duplicate speeches like this will be problematic for the analysis later on!\n",
    "\n",
    "This The removal of duplicates is considered later. This section is for this column only, including the `'-'`s in Lopetusajankohta."
   ]
  },
  {
   "cell_type": "code",
   "execution_count": 26,
   "metadata": {},
   "outputs": [
    {
     "data": {
      "text/html": [
       "<div>\n",
       "<style scoped>\n",
       "    .dataframe tbody tr th:only-of-type {\n",
       "        vertical-align: middle;\n",
       "    }\n",
       "\n",
       "    .dataframe tbody tr th {\n",
       "        vertical-align: top;\n",
       "    }\n",
       "\n",
       "    .dataframe thead th {\n",
       "        text-align: right;\n",
       "    }\n",
       "</style>\n",
       "<table border=\"1\" class=\"dataframe\">\n",
       "  <thead>\n",
       "    <tr style=\"text-align: right;\">\n",
       "      <th></th>\n",
       "      <th>Käsittelyvaihe</th>\n",
       "      <th>Vireilletuloasiakirja</th>\n",
       "      <th>Järjestys</th>\n",
       "      <th>ID</th>\n",
       "      <th>Asema</th>\n",
       "      <th>Etunimi</th>\n",
       "      <th>Sukunimi</th>\n",
       "      <th>Eduskuntaryhmä</th>\n",
       "      <th>Puheenvuorotyyppi</th>\n",
       "      <th>Aloitusajankohta</th>\n",
       "      <th>Lopetusajankohta</th>\n",
       "      <th>Puheenvuoro</th>\n",
       "      <th>Pöytäkirjan verkko-osoite</th>\n",
       "    </tr>\n",
       "  </thead>\n",
       "  <tbody>\n",
       "    <tr>\n",
       "      <th>608</th>\n",
       "      <td>Lähetekeskustelu</td>\n",
       "      <td>K 11/2019 vp</td>\n",
       "      <td>12</td>\n",
       "      <td>632</td>\n",
       "      <td>Eduskunnan oikeusasiamies</td>\n",
       "      <td>Petri</td>\n",
       "      <td>Jääskeläinen</td>\n",
       "      <td>-</td>\n",
       "      <td>-</td>\n",
       "      <td>2019-06-13 14:40:34</td>\n",
       "      <td>-</td>\n",
       "      <td>Arvoisa herra puhemies! Olen hyvin ilahtunut s...</td>\n",
       "      <td>https://www.eduskunta.fi/FI/vaski/PoytakirjaAs...</td>\n",
       "    </tr>\n",
       "    <tr>\n",
       "      <th>866</th>\n",
       "      <td>Keskustelu</td>\n",
       "      <td>PI 1/2019 vp</td>\n",
       "      <td>82</td>\n",
       "      <td>118</td>\n",
       "      <td>Ulkoministeri</td>\n",
       "      <td>Pekka</td>\n",
       "      <td>Haavisto</td>\n",
       "      <td>-</td>\n",
       "      <td>varsinainen puheenvuoro</td>\n",
       "      <td>2019-06-26 16:03:42</td>\n",
       "      <td>-</td>\n",
       "      <td>Arvoisa puhemies! Omasta puolestani myös kiito...</td>\n",
       "      <td>https://www.eduskunta.fi/FI/vaski/PoytakirjaAs...</td>\n",
       "    </tr>\n",
       "    <tr>\n",
       "      <th>867</th>\n",
       "      <td>Keskustelu</td>\n",
       "      <td>PI 1/2019 vp</td>\n",
       "      <td>83</td>\n",
       "      <td>1316</td>\n",
       "      <td>Kehitysyhteistyö- ja ulkomaankauppaministeri</td>\n",
       "      <td>Ville</td>\n",
       "      <td>Skinnari</td>\n",
       "      <td>-</td>\n",
       "      <td>varsinainen puheenvuoro</td>\n",
       "      <td>2019-06-26 16:05:00</td>\n",
       "      <td>-</td>\n",
       "      <td>Arvoisa puhemies! Kiitos myös omasta puolestan...</td>\n",
       "      <td>https://www.eduskunta.fi/FI/vaski/PoytakirjaAs...</td>\n",
       "    </tr>\n",
       "    <tr>\n",
       "      <th>1173</th>\n",
       "      <td>Lähetekeskustelu</td>\n",
       "      <td>HE 9/2019 vp</td>\n",
       "      <td>10</td>\n",
       "      <td>1100</td>\n",
       "      <td>-</td>\n",
       "      <td>Sanni</td>\n",
       "      <td>Grahn-Laasonen</td>\n",
       "      <td>kok</td>\n",
       "      <td>-</td>\n",
       "      <td>2019-09-11 14:27:22</td>\n",
       "      <td>-</td>\n",
       "      <td>Arvoisa puhemies! Tästä tietovaranto VARDAstah...</td>\n",
       "      <td>https://www.eduskunta.fi/FI/vaski/PoytakirjaAs...</td>\n",
       "    </tr>\n",
       "    <tr>\n",
       "      <th>2192</th>\n",
       "      <td>Lähetekeskustelu</td>\n",
       "      <td>HE 29/2019 vp</td>\n",
       "      <td>3</td>\n",
       "      <td>1301</td>\n",
       "      <td>-</td>\n",
       "      <td>Jani</td>\n",
       "      <td>Mäkelä</td>\n",
       "      <td>ps</td>\n",
       "      <td>ryhmäpuheenvuoro</td>\n",
       "      <td>2019-10-08 12:25:33</td>\n",
       "      <td>-</td>\n",
       "      <td>Arvoisa puhemies! Hallitus kuvittelee, että Su...</td>\n",
       "      <td>https://www.eduskunta.fi/FI/vaski/PoytakirjaAs...</td>\n",
       "    </tr>\n",
       "    <tr>\n",
       "      <th>...</th>\n",
       "      <td>...</td>\n",
       "      <td>...</td>\n",
       "      <td>...</td>\n",
       "      <td>...</td>\n",
       "      <td>...</td>\n",
       "      <td>...</td>\n",
       "      <td>...</td>\n",
       "      <td>...</td>\n",
       "      <td>...</td>\n",
       "      <td>...</td>\n",
       "      <td>...</td>\n",
       "      <td>...</td>\n",
       "      <td>...</td>\n",
       "    </tr>\n",
       "    <tr>\n",
       "      <th>32911</th>\n",
       "      <td>Ainoa käsittely</td>\n",
       "      <td>VNS 4/2021 vp</td>\n",
       "      <td>9</td>\n",
       "      <td>499</td>\n",
       "      <td>-</td>\n",
       "      <td>Päivi</td>\n",
       "      <td>Räsänen</td>\n",
       "      <td>kd</td>\n",
       "      <td>ryhmäpuheenvuoro</td>\n",
       "      <td>2022-03-16 14:48:36</td>\n",
       "      <td>-</td>\n",
       "      <td>Arvoisa puhemies! Turvallisuusympäristömme on ...</td>\n",
       "      <td>https://www.eduskunta.fi/FI/vaski/PoytakirjaAs...</td>\n",
       "    </tr>\n",
       "    <tr>\n",
       "      <th>33461</th>\n",
       "      <td>Suullinen kyselytunti</td>\n",
       "      <td>SKT 58/2022 vp</td>\n",
       "      <td>4</td>\n",
       "      <td>1298</td>\n",
       "      <td>Sisäministeri</td>\n",
       "      <td>Krista</td>\n",
       "      <td>Mikkonen</td>\n",
       "      <td>-</td>\n",
       "      <td>vastauspuheenvuoro</td>\n",
       "      <td>2022-03-31 16:04:52</td>\n",
       "      <td>-</td>\n",
       "      <td>Arvoisa puhemies! Tällä hetkellä todella tulee...</td>\n",
       "      <td>https://www.eduskunta.fi/FI/vaski/PoytakirjaAs...</td>\n",
       "    </tr>\n",
       "    <tr>\n",
       "      <th>34816</th>\n",
       "      <td>Lähetekeskustelu</td>\n",
       "      <td>VNS 3/2022 vp</td>\n",
       "      <td>87</td>\n",
       "      <td>1440</td>\n",
       "      <td>-</td>\n",
       "      <td>Anders</td>\n",
       "      <td>Norrback</td>\n",
       "      <td>r</td>\n",
       "      <td>nopeatahtinen keskustelu</td>\n",
       "      <td>2022-05-16 14:39:26</td>\n",
       "      <td>-</td>\n",
       "      <td>Ärade talman! Diskussionen om Nato har varit a...</td>\n",
       "      <td>https://www.eduskunta.fi/FI/vaski/PoytakirjaAs...</td>\n",
       "    </tr>\n",
       "    <tr>\n",
       "      <th>36241</th>\n",
       "      <td>Toinen käsittely</td>\n",
       "      <td>HE 68/2022 vp</td>\n",
       "      <td>3</td>\n",
       "      <td>1439</td>\n",
       "      <td>-</td>\n",
       "      <td>Mauri</td>\n",
       "      <td>Peltokangas</td>\n",
       "      <td>ps</td>\n",
       "      <td>-</td>\n",
       "      <td>2022-07-04 17:48:21</td>\n",
       "      <td>-</td>\n",
       "      <td>Kiitos, arvoisa puhemies! Kannatan edustaja Pu...</td>\n",
       "      <td>https://www.eduskunta.fi/FI/vaski/PoytakirjaAs...</td>\n",
       "    </tr>\n",
       "    <tr>\n",
       "      <th>36242</th>\n",
       "      <td>Toinen käsittely</td>\n",
       "      <td>HE 68/2022 vp</td>\n",
       "      <td>4</td>\n",
       "      <td>1100</td>\n",
       "      <td>-</td>\n",
       "      <td>Sanni</td>\n",
       "      <td>Grahn-Laasonen</td>\n",
       "      <td>kok</td>\n",
       "      <td>-</td>\n",
       "      <td>2022-07-04 17:48:31</td>\n",
       "      <td>-</td>\n",
       "      <td>Arvoisa puhemies! Pyysin tämän puheenvuoron ka...</td>\n",
       "      <td>https://www.eduskunta.fi/FI/vaski/PoytakirjaAs...</td>\n",
       "    </tr>\n",
       "  </tbody>\n",
       "</table>\n",
       "<p>237 rows × 13 columns</p>\n",
       "</div>"
      ],
      "text/plain": [
       "              Käsittelyvaihe Vireilletuloasiakirja  Järjestys    ID  \\\n",
       "608         Lähetekeskustelu          K 11/2019 vp         12   632   \n",
       "866               Keskustelu          PI 1/2019 vp         82   118   \n",
       "867               Keskustelu          PI 1/2019 vp         83  1316   \n",
       "1173        Lähetekeskustelu          HE 9/2019 vp         10  1100   \n",
       "2192        Lähetekeskustelu         HE 29/2019 vp          3  1301   \n",
       "...                      ...                   ...        ...   ...   \n",
       "32911        Ainoa käsittely         VNS 4/2021 vp          9   499   \n",
       "33461  Suullinen kyselytunti        SKT 58/2022 vp          4  1298   \n",
       "34816       Lähetekeskustelu         VNS 3/2022 vp         87  1440   \n",
       "36241       Toinen käsittely         HE 68/2022 vp          3  1439   \n",
       "36242       Toinen käsittely         HE 68/2022 vp          4  1100   \n",
       "\n",
       "                                              Asema Etunimi        Sukunimi  \\\n",
       "608                       Eduskunnan oikeusasiamies   Petri    Jääskeläinen   \n",
       "866                                   Ulkoministeri   Pekka        Haavisto   \n",
       "867    Kehitysyhteistyö- ja ulkomaankauppaministeri   Ville        Skinnari   \n",
       "1173                                              -   Sanni  Grahn-Laasonen   \n",
       "2192                                              -    Jani          Mäkelä   \n",
       "...                                             ...     ...             ...   \n",
       "32911                                             -   Päivi         Räsänen   \n",
       "33461                                 Sisäministeri  Krista        Mikkonen   \n",
       "34816                                             -  Anders        Norrback   \n",
       "36241                                             -   Mauri     Peltokangas   \n",
       "36242                                             -   Sanni  Grahn-Laasonen   \n",
       "\n",
       "      Eduskuntaryhmä         Puheenvuorotyyppi    Aloitusajankohta  \\\n",
       "608                -                         - 2019-06-13 14:40:34   \n",
       "866                -   varsinainen puheenvuoro 2019-06-26 16:03:42   \n",
       "867                -   varsinainen puheenvuoro 2019-06-26 16:05:00   \n",
       "1173             kok                         - 2019-09-11 14:27:22   \n",
       "2192              ps          ryhmäpuheenvuoro 2019-10-08 12:25:33   \n",
       "...              ...                       ...                 ...   \n",
       "32911             kd          ryhmäpuheenvuoro 2022-03-16 14:48:36   \n",
       "33461              -        vastauspuheenvuoro 2022-03-31 16:04:52   \n",
       "34816              r  nopeatahtinen keskustelu 2022-05-16 14:39:26   \n",
       "36241             ps                         - 2022-07-04 17:48:21   \n",
       "36242            kok                         - 2022-07-04 17:48:31   \n",
       "\n",
       "      Lopetusajankohta                                        Puheenvuoro  \\\n",
       "608                  -  Arvoisa herra puhemies! Olen hyvin ilahtunut s...   \n",
       "866                  -  Arvoisa puhemies! Omasta puolestani myös kiito...   \n",
       "867                  -  Arvoisa puhemies! Kiitos myös omasta puolestan...   \n",
       "1173                 -  Arvoisa puhemies! Tästä tietovaranto VARDAstah...   \n",
       "2192                 -  Arvoisa puhemies! Hallitus kuvittelee, että Su...   \n",
       "...                ...                                                ...   \n",
       "32911                -  Arvoisa puhemies! Turvallisuusympäristömme on ...   \n",
       "33461                -  Arvoisa puhemies! Tällä hetkellä todella tulee...   \n",
       "34816                -  Ärade talman! Diskussionen om Nato har varit a...   \n",
       "36241                -  Kiitos, arvoisa puhemies! Kannatan edustaja Pu...   \n",
       "36242                -  Arvoisa puhemies! Pyysin tämän puheenvuoron ka...   \n",
       "\n",
       "                               Pöytäkirjan verkko-osoite  \n",
       "608    https://www.eduskunta.fi/FI/vaski/PoytakirjaAs...  \n",
       "866    https://www.eduskunta.fi/FI/vaski/PoytakirjaAs...  \n",
       "867    https://www.eduskunta.fi/FI/vaski/PoytakirjaAs...  \n",
       "1173   https://www.eduskunta.fi/FI/vaski/PoytakirjaAs...  \n",
       "2192   https://www.eduskunta.fi/FI/vaski/PoytakirjaAs...  \n",
       "...                                                  ...  \n",
       "32911  https://www.eduskunta.fi/FI/vaski/PoytakirjaAs...  \n",
       "33461  https://www.eduskunta.fi/FI/vaski/PoytakirjaAs...  \n",
       "34816  https://www.eduskunta.fi/FI/vaski/PoytakirjaAs...  \n",
       "36241  https://www.eduskunta.fi/FI/vaski/PoytakirjaAs...  \n",
       "36242  https://www.eduskunta.fi/FI/vaski/PoytakirjaAs...  \n",
       "\n",
       "[237 rows x 13 columns]"
      ]
     },
     "execution_count": 26,
     "metadata": {},
     "output_type": "execute_result"
    }
   ],
   "source": [
    "pvt[pvt[column_name] == \"-\"]"
   ]
  },
  {
   "attachments": {},
   "cell_type": "markdown",
   "metadata": {},
   "source": [
    "These are the problematic rows. \n",
    "\n",
    "Let's jump back to Excel & check the minutes in greater detail to see if a pattern can be found. I couldn't find one based on the table above.\n",
    "\n",
    "...\n",
    "\n",
    "I still couldn't find one from Excel or the minutes, either. There are two *fun* options outside excluding the rows (which would be realistic, as 200 rows out of 30000 isn't that much):\n",
    "\n",
    "1. Measure the average difference in time between the end of a speech, and the beginning of the next speech\n",
    "   * Exclude the cases where the next speech is in another session\n",
    "   * Apply the [beginning of the next speech] - [average time between speeches] as the end speech of the 237 rows above\n",
    "2. Measure the length of a speech in characters AND in minutes & seconds\n",
    "   * Based on this, calculate the estimated length of a speech based on the count of characters\n",
    "     * Could be personalized, too \n",
    "       * – as in, the average characters per second could be calculated for every person, and the personal value would be used for every person instead\n",
    "       * Problematic, as the sample size is smaller (and even then, this doesn't take the state of mind into account)\n",
    "\n",
    "However, both of these options \n",
    "1. Aren't foolproof & their use should be considered either way\n",
    "2. Aren't related to the content of speeches (in words). I.e., if nothing related to the length of a speech is analyzed, this isn't an issue.\n",
    "\n",
    "Hence, I'll leave further problem-solving on the specific topic out for now.\n",
    "\n",
    "**No further edits are to be made on Lopetusajankohta for now!**"
   ]
  },
  {
   "attachments": {},
   "cell_type": "markdown",
   "metadata": {},
   "source": [
    "### Visual identifiers for groups\n",
    "\n",
    "Nearly all groups are also parties. Let's use the parties colors' for the gorups to make the plots more informative."
   ]
  },
  {
   "cell_type": "code",
   "execution_count": 27,
   "metadata": {},
   "outputs": [
    {
     "data": {
      "text/plain": [
       "{'ps': '#FFD500',\n",
       " 'sd': '#E11931',\n",
       " 'vas': '#5f0f11',\n",
       " 'kok': '#006288',\n",
       " 'r': '#FFDD93',\n",
       " 'kesk': '#01954B',\n",
       " 'kd': '#2B67C9',\n",
       " '-': '#CCCCCC',\n",
       " 'vihr': '#61BF1A',\n",
       " 'liik': '#ae2375',\n",
       " 'at': '#444444',\n",
       " 'vkk': '#000000'}"
      ]
     },
     "execution_count": 27,
     "metadata": {},
     "output_type": "execute_result"
    }
   ],
   "source": [
    "party_codes = list(pvt[\"Eduskuntaryhmä\"].unique())\n",
    "\n",
    "# vas should be \"BF1E24\" but it's really close to sd, so change it to a darker #5f0f11\n",
    "color_codes = [\"#FFD500\", \"#E11931\", \"#5f0f11\", \"#006288\", \"#FFDD93\", \"#01954B\", \"#2B67C9\", \"#CCCCCC\", \"#61BF1A\", \"#ae2375\", \"#444444\", \"#000000\"]\n",
    "color_dict = dict(zip(party_codes, color_codes))\n",
    "color_dict"
   ]
  },
  {
   "cell_type": "code",
   "execution_count": 28,
   "metadata": {},
   "outputs": [],
   "source": [
    "pvt[\"EduskuntaryhmäVäri\"] = pvt.apply(lambda row: color_dict[row[\"Eduskuntaryhmä\"]], axis=1)"
   ]
  },
  {
   "attachments": {},
   "cell_type": "markdown",
   "metadata": {},
   "source": [
    "## Conclusion\n",
    "\n",
    "Minor edits were done to the files. Due to \"Lopetusajankohta\" has blanks, the data is not fit for use where the starting or end times, or the length of the speech matters.\n",
    "\n",
    "However, the current data can be used to analyze the contents in text. The current version with minor edits is now exported to the working database for further use in text analysis."
   ]
  },
  {
   "cell_type": "code",
   "execution_count": 29,
   "metadata": {},
   "outputs": [
    {
     "data": {
      "text/plain": [
       "36273"
      ]
     },
     "execution_count": 29,
     "metadata": {},
     "output_type": "execute_result"
    }
   ],
   "source": [
    "from sqlalchemy import create_engine\n",
    "engine = create_engine('sqlite:///eduskunta.db', echo=False)\n",
    "\n",
    "pvt.to_sql(\"puheenvuorot_bad_times\", con=engine, index_label=\"PvID\",\n",
    "           if_exists=\"replace\")  # NOTE this replaces the existing one every time the file is run!"
   ]
  }
 ],
 "metadata": {
  "kernelspec": {
   "display_name": "Python 3.9.12 ('joda22')",
   "language": "python",
   "name": "python3"
  },
  "language_info": {
   "codemirror_mode": {
    "name": "ipython",
    "version": 3
   },
   "file_extension": ".py",
   "mimetype": "text/x-python",
   "name": "python",
   "nbconvert_exporter": "python",
   "pygments_lexer": "ipython3",
   "version": "3.9.12 (main, Apr  4 2022, 05:22:27) [MSC v.1916 64 bit (AMD64)]"
  },
  "orig_nbformat": 4,
  "vscode": {
   "interpreter": {
    "hash": "3bcb3def9690712be27acf439970c5664551860baf760898c35e329108a450cd"
   }
  }
 },
 "nbformat": 4,
 "nbformat_minor": 2
}
